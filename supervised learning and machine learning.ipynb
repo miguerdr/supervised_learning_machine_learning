{
 "cells": [
  {
   "cell_type": "markdown",
   "id": "88f9e0df",
   "metadata": {},
   "source": [
    "# supervised learning and machine learning"
   ]
  },
  {
   "cell_type": "markdown",
   "id": "8e13a637",
   "metadata": {},
   "source": [
    "Se realizara el calculo de recuperacion para el concentrado de rougher y recuperación del concentrado final, los valores los obtenemos de las columnas como lo indica el diagrama, mediante el conjunto de entrenamiento \n",
    "<img src=\"diagrama.png\" width=\"800\">\n",
    "Para realizar el calculo de recuperacion, usamos la formula proporcionada\n",
    "<img src=\"calculo de recuperacion.png\" width=\"800\">\n",
    "Donde: \n",
    "+ C — proporción de oro en el concentrado justo después de la flotación (para saber la recuperación del concentrado rougher)/después de la purificación (para saber la recuperación del concentrado final)\n",
    "+ F — la proporción de oro en la alimentación antes de la flotación (para saber la recuperación del concentrado rougher)/en el concentrado justo después de la flotación (para saber la recuperación del concentrado final)\n",
    "+ T — la proporción de oro en las colas rougher justo después de la flotación (para saber la recuperación del concentrado rougher)/después de la purificación (para saber la recuperación del concentrado final)"
   ]
  },
  {
   "cell_type": "markdown",
   "id": "19147887",
   "metadata": {
    "toc": true
   },
   "source": [
    "<h1>Table of Contents<span class=\"tocSkip\"></span></h1>\n",
    "<div class=\"toc\"><ul class=\"toc-item\"><li><span><a href=\"#Prepara-los-datos\" data-toc-modified-id=\"Prepara-los-datos-1\"><span class=\"toc-item-num\">1&nbsp;&nbsp;</span>Prepara los datos</a></span><ul class=\"toc-item\"><li><span><a href=\"#Abre-los-archivos-y-examina-los-datos\" data-toc-modified-id=\"Abre-los-archivos-y-examina-los-datos-1.1\"><span class=\"toc-item-num\">1.1&nbsp;&nbsp;</span>Abre los archivos y examina los datos</a></span></li><li><span><a href=\"#cálculo-de-la-recuperación\" data-toc-modified-id=\"cálculo-de-la-recuperación-1.2\"><span class=\"toc-item-num\">1.2&nbsp;&nbsp;</span>cálculo de la recuperación</a></span></li><li><span><a href=\"#características-no-disponibles-en-el-conjunto-de-prueba\" data-toc-modified-id=\"características-no-disponibles-en-el-conjunto-de-prueba-1.3\"><span class=\"toc-item-num\">1.3&nbsp;&nbsp;</span>características no disponibles en el conjunto de prueba</a></span></li><li><span><a href=\"#Realiza-el-preprocesamiento-de-datos.\" data-toc-modified-id=\"Realiza-el-preprocesamiento-de-datos.-1.4\"><span class=\"toc-item-num\">1.4&nbsp;&nbsp;</span>Realiza el preprocesamiento de datos.</a></span><ul class=\"toc-item\"><li><span><a href=\"#Datos-ausentes\" data-toc-modified-id=\"Datos-ausentes-1.4.1\"><span class=\"toc-item-num\">1.4.1&nbsp;&nbsp;</span>Datos ausentes</a></span></li></ul></li></ul></li><li><span><a href=\"#Analiza-los-datos\" data-toc-modified-id=\"Analiza-los-datos-2\"><span class=\"toc-item-num\">2&nbsp;&nbsp;</span>Analiza los datos</a></span><ul class=\"toc-item\"><li><span><a href=\"#Cambio-de-concentración-de-metales-en-función-de-la-etapa-de-purificación.-(Au,-Ag,-Pb)\" data-toc-modified-id=\"Cambio-de-concentración-de-metales-en-función-de-la-etapa-de-purificación.-(Au,-Ag,-Pb)-2.1\"><span class=\"toc-item-num\">2.1&nbsp;&nbsp;</span>Cambio de concentración de metales en función de la etapa de purificación. (Au, Ag, Pb)</a></span><ul class=\"toc-item\"><li><span><a href=\"#Cambio-de-Au-(Oro)\" data-toc-modified-id=\"Cambio-de-Au-(Oro)-2.1.1\"><span class=\"toc-item-num\">2.1.1&nbsp;&nbsp;</span>Cambio de Au (Oro)</a></span></li><li><span><a href=\"#Cambio-de-Ag-(Plata)\" data-toc-modified-id=\"Cambio-de-Ag-(Plata)-2.1.2\"><span class=\"toc-item-num\">2.1.2&nbsp;&nbsp;</span>Cambio de Ag (Plata)</a></span></li><li><span><a href=\"#Cambio-de-Pb-(Plomo)\" data-toc-modified-id=\"Cambio-de-Pb-(Plomo)-2.1.3\"><span class=\"toc-item-num\">2.1.3&nbsp;&nbsp;</span>Cambio de Pb (Plomo)</a></span></li></ul></li><li><span><a href=\"#Tamaño-de-las-partículas-de-la-alimentación\" data-toc-modified-id=\"Tamaño-de-las-partículas-de-la-alimentación-2.2\"><span class=\"toc-item-num\">2.2&nbsp;&nbsp;</span>Tamaño de las partículas de la alimentación</a></span></li><li><span><a href=\"#Concentraciones-totales-de-todas-las-sustancias-en-las-diferentes-etapas\" data-toc-modified-id=\"Concentraciones-totales-de-todas-las-sustancias-en-las-diferentes-etapas-2.3\"><span class=\"toc-item-num\">2.3&nbsp;&nbsp;</span>Concentraciones totales de todas las sustancias en las diferentes etapas</a></span><ul class=\"toc-item\"><li><span><a href=\"#Materia-prima\" data-toc-modified-id=\"Materia-prima-2.3.1\"><span class=\"toc-item-num\">2.3.1&nbsp;&nbsp;</span>Materia prima</a></span></li><li><span><a href=\"#Concentrado-rougher\" data-toc-modified-id=\"Concentrado-rougher-2.3.2\"><span class=\"toc-item-num\">2.3.2&nbsp;&nbsp;</span>Concentrado rougher</a></span></li><li><span><a href=\"#Concentrado-final\" data-toc-modified-id=\"Concentrado-final-2.3.3\"><span class=\"toc-item-num\">2.3.3&nbsp;&nbsp;</span>Concentrado final</a></span></li></ul></li></ul></li><li><span><a href=\"#Construye-el-modelo\" data-toc-modified-id=\"Construye-el-modelo-3\"><span class=\"toc-item-num\">3&nbsp;&nbsp;</span>Construye el modelo</a></span><ul class=\"toc-item\"><li><span><a href=\"#función-para-calcular-el-valor-final-de-sMAPE\" data-toc-modified-id=\"función-para-calcular-el-valor-final-de-sMAPE-3.1\"><span class=\"toc-item-num\">3.1&nbsp;&nbsp;</span>función para calcular el valor final de sMAPE</a></span></li><li><span><a href=\"#Entrena-diferentes-modelos\" data-toc-modified-id=\"Entrena-diferentes-modelos-3.2\"><span class=\"toc-item-num\">3.2&nbsp;&nbsp;</span>Entrena diferentes modelos</a></span><ul class=\"toc-item\"><li><span><a href=\"#Linear-Regression\" data-toc-modified-id=\"Linear-Regression-3.2.1\"><span class=\"toc-item-num\">3.2.1&nbsp;&nbsp;</span>Linear Regression</a></span></li><li><span><a href=\"#Modelo-Random-Forest-Regressor\" data-toc-modified-id=\"Modelo-Random-Forest-Regressor-3.2.2\"><span class=\"toc-item-num\">3.2.2&nbsp;&nbsp;</span>Modelo Random Forest Regressor</a></span></li><li><span><a href=\"#Modelo-Desicion-Tree-Regressor\" data-toc-modified-id=\"Modelo-Desicion-Tree-Regressor-3.2.3\"><span class=\"toc-item-num\">3.2.3&nbsp;&nbsp;</span>Modelo Desicion Tree Regressor</a></span></li><li><span><a href=\"#Tabla-de-resultados\" data-toc-modified-id=\"Tabla-de-resultados-3.2.4\"><span class=\"toc-item-num\">3.2.4&nbsp;&nbsp;</span>Tabla de resultados</a></span></li></ul></li><li><span><a href=\"#Probamos-el-modelo-con-Test\" data-toc-modified-id=\"Probamos-el-modelo-con-Test-3.3\"><span class=\"toc-item-num\">3.3&nbsp;&nbsp;</span>Probamos el modelo con Test</a></span></li></ul></li><li><span><a href=\"#Conclusión\" data-toc-modified-id=\"Conclusión-4\"><span class=\"toc-item-num\">4&nbsp;&nbsp;</span>Conclusión</a></span></li></ul></div>"
   ]
  },
  {
   "cell_type": "markdown",
   "id": "93c55a7d",
   "metadata": {},
   "source": [
    "## Prepara los datos"
   ]
  },
  {
   "cell_type": "code",
   "execution_count": 53,
   "id": "8b4a4c82",
   "metadata": {},
   "outputs": [],
   "source": [
    "#Importar bibliotecas \n",
    "import numpy as np\n",
    "import pandas as pd\n",
    "import matplotlib.pyplot as plt\n",
    "import seaborn as sns\n",
    "from sklearn.model_selection import train_test_split  \n",
    "from sklearn.metrics import mean_squared_error\n",
    "from sklearn.preprocessing import OrdinalEncoder\n",
    "from sklearn.preprocessing import StandardScaler\n",
    "from sklearn.linear_model import LinearRegression\n",
    "from sklearn.model_selection import cross_val_score\n",
    "from sklearn.metrics import make_scorer\n",
    "from sklearn.model_selection import GridSearchCV\n",
    "from sklearn.ensemble import RandomForestRegressor\n",
    "from sklearn.tree import DecisionTreeRegressor\n"
   ]
  },
  {
   "cell_type": "markdown",
   "id": "bb7d1afc",
   "metadata": {},
   "source": [
    "### Abre los archivos y examina los datos"
   ]
  },
  {
   "cell_type": "code",
   "execution_count": 54,
   "id": "fe639d90",
   "metadata": {},
   "outputs": [],
   "source": [
    "# Carga el archivo de datos en un DataFrame\n",
    "try:\n",
    "    train = pd.read_csv('gold_recovery_train.csv')\n",
    "    test = pd.read_csv('gold_recovery_test.csv')\n",
    "    full = pd.read_csv('gold_recovery_full.csv')\n",
    "except: \n",
    "    train = pd.read_csv('/datasets/gold_recovery_train.csv')\n",
    "    test = pd.read_csv('/datasets/gold_recovery_test.csv')\n",
    "    full = pd.read_csv('/datasets/gold_recovery_full.csv')"
   ]
  },
  {
   "cell_type": "code",
   "execution_count": 55,
   "id": "68a8bb55",
   "metadata": {
    "scrolled": true
   },
   "outputs": [
    {
     "name": "stdout",
     "output_type": "stream",
     "text": [
      "<class 'pandas.core.frame.DataFrame'>\n",
      "RangeIndex: 16860 entries, 0 to 16859\n",
      "Data columns (total 87 columns):\n",
      " #   Column                                              Non-Null Count  Dtype  \n",
      "---  ------                                              --------------  -----  \n",
      " 0   date                                                16860 non-null  object \n",
      " 1   final.output.concentrate_ag                         16788 non-null  float64\n",
      " 2   final.output.concentrate_pb                         16788 non-null  float64\n",
      " 3   final.output.concentrate_sol                        16490 non-null  float64\n",
      " 4   final.output.concentrate_au                         16789 non-null  float64\n",
      " 5   final.output.recovery                               15339 non-null  float64\n",
      " 6   final.output.tail_ag                                16794 non-null  float64\n",
      " 7   final.output.tail_pb                                16677 non-null  float64\n",
      " 8   final.output.tail_sol                               16715 non-null  float64\n",
      " 9   final.output.tail_au                                16794 non-null  float64\n",
      " 10  primary_cleaner.input.sulfate                       15553 non-null  float64\n",
      " 11  primary_cleaner.input.depressant                    15598 non-null  float64\n",
      " 12  primary_cleaner.input.feed_size                     16860 non-null  float64\n",
      " 13  primary_cleaner.input.xanthate                      15875 non-null  float64\n",
      " 14  primary_cleaner.output.concentrate_ag               16778 non-null  float64\n",
      " 15  primary_cleaner.output.concentrate_pb               16502 non-null  float64\n",
      " 16  primary_cleaner.output.concentrate_sol              16224 non-null  float64\n",
      " 17  primary_cleaner.output.concentrate_au               16778 non-null  float64\n",
      " 18  primary_cleaner.output.tail_ag                      16777 non-null  float64\n",
      " 19  primary_cleaner.output.tail_pb                      16761 non-null  float64\n",
      " 20  primary_cleaner.output.tail_sol                     16579 non-null  float64\n",
      " 21  primary_cleaner.output.tail_au                      16777 non-null  float64\n",
      " 22  primary_cleaner.state.floatbank8_a_air              16820 non-null  float64\n",
      " 23  primary_cleaner.state.floatbank8_a_level            16827 non-null  float64\n",
      " 24  primary_cleaner.state.floatbank8_b_air              16820 non-null  float64\n",
      " 25  primary_cleaner.state.floatbank8_b_level            16833 non-null  float64\n",
      " 26  primary_cleaner.state.floatbank8_c_air              16822 non-null  float64\n",
      " 27  primary_cleaner.state.floatbank8_c_level            16833 non-null  float64\n",
      " 28  primary_cleaner.state.floatbank8_d_air              16821 non-null  float64\n",
      " 29  primary_cleaner.state.floatbank8_d_level            16833 non-null  float64\n",
      " 30  rougher.calculation.sulfate_to_au_concentrate       16833 non-null  float64\n",
      " 31  rougher.calculation.floatbank10_sulfate_to_au_feed  16833 non-null  float64\n",
      " 32  rougher.calculation.floatbank11_sulfate_to_au_feed  16833 non-null  float64\n",
      " 33  rougher.calculation.au_pb_ratio                     15618 non-null  float64\n",
      " 34  rougher.input.feed_ag                               16778 non-null  float64\n",
      " 35  rougher.input.feed_pb                               16632 non-null  float64\n",
      " 36  rougher.input.feed_rate                             16347 non-null  float64\n",
      " 37  rougher.input.feed_size                             16443 non-null  float64\n",
      " 38  rougher.input.feed_sol                              16568 non-null  float64\n",
      " 39  rougher.input.feed_au                               16777 non-null  float64\n",
      " 40  rougher.input.floatbank10_sulfate                   15816 non-null  float64\n",
      " 41  rougher.input.floatbank10_xanthate                  16514 non-null  float64\n",
      " 42  rougher.input.floatbank11_sulfate                   16237 non-null  float64\n",
      " 43  rougher.input.floatbank11_xanthate                  14956 non-null  float64\n",
      " 44  rougher.output.concentrate_ag                       16778 non-null  float64\n",
      " 45  rougher.output.concentrate_pb                       16778 non-null  float64\n",
      " 46  rougher.output.concentrate_sol                      16698 non-null  float64\n",
      " 47  rougher.output.concentrate_au                       16778 non-null  float64\n",
      " 48  rougher.output.recovery                             14287 non-null  float64\n",
      " 49  rougher.output.tail_ag                              14610 non-null  float64\n",
      " 50  rougher.output.tail_pb                              16778 non-null  float64\n",
      " 51  rougher.output.tail_sol                             14611 non-null  float64\n",
      " 52  rougher.output.tail_au                              14611 non-null  float64\n",
      " 53  rougher.state.floatbank10_a_air                     16807 non-null  float64\n",
      " 54  rougher.state.floatbank10_a_level                   16807 non-null  float64\n",
      " 55  rougher.state.floatbank10_b_air                     16807 non-null  float64\n",
      " 56  rougher.state.floatbank10_b_level                   16807 non-null  float64\n",
      " 57  rougher.state.floatbank10_c_air                     16807 non-null  float64\n",
      " 58  rougher.state.floatbank10_c_level                   16814 non-null  float64\n",
      " 59  rougher.state.floatbank10_d_air                     16802 non-null  float64\n",
      " 60  rougher.state.floatbank10_d_level                   16809 non-null  float64\n",
      " 61  rougher.state.floatbank10_e_air                     16257 non-null  float64\n",
      " 62  rougher.state.floatbank10_e_level                   16809 non-null  float64\n",
      " 63  rougher.state.floatbank10_f_air                     16802 non-null  float64\n",
      " 64  rougher.state.floatbank10_f_level                   16802 non-null  float64\n",
      " 65  secondary_cleaner.output.tail_ag                    16776 non-null  float64\n",
      " 66  secondary_cleaner.output.tail_pb                    16764 non-null  float64\n",
      " 67  secondary_cleaner.output.tail_sol                   14874 non-null  float64\n",
      " 68  secondary_cleaner.output.tail_au                    16778 non-null  float64\n",
      " 69  secondary_cleaner.state.floatbank2_a_air            16497 non-null  float64\n",
      " 70  secondary_cleaner.state.floatbank2_a_level          16751 non-null  float64\n",
      " 71  secondary_cleaner.state.floatbank2_b_air            16705 non-null  float64\n",
      " 72  secondary_cleaner.state.floatbank2_b_level          16748 non-null  float64\n",
      " 73  secondary_cleaner.state.floatbank3_a_air            16763 non-null  float64\n",
      " 74  secondary_cleaner.state.floatbank3_a_level          16747 non-null  float64\n",
      " 75  secondary_cleaner.state.floatbank3_b_air            16752 non-null  float64\n",
      " 76  secondary_cleaner.state.floatbank3_b_level          16750 non-null  float64\n",
      " 77  secondary_cleaner.state.floatbank4_a_air            16731 non-null  float64\n",
      " 78  secondary_cleaner.state.floatbank4_a_level          16747 non-null  float64\n",
      " 79  secondary_cleaner.state.floatbank4_b_air            16768 non-null  float64\n",
      " 80  secondary_cleaner.state.floatbank4_b_level          16767 non-null  float64\n",
      " 81  secondary_cleaner.state.floatbank5_a_air            16775 non-null  float64\n",
      " 82  secondary_cleaner.state.floatbank5_a_level          16775 non-null  float64\n",
      " 83  secondary_cleaner.state.floatbank5_b_air            16775 non-null  float64\n",
      " 84  secondary_cleaner.state.floatbank5_b_level          16776 non-null  float64\n",
      " 85  secondary_cleaner.state.floatbank6_a_air            16757 non-null  float64\n",
      " 86  secondary_cleaner.state.floatbank6_a_level          16775 non-null  float64\n",
      "dtypes: float64(86), object(1)\n",
      "memory usage: 11.2+ MB\n",
      "None\n",
      "       final.output.concentrate_ag  final.output.concentrate_pb  \\\n",
      "count                 16788.000000                 16788.000000   \n",
      "mean                      4.716907                     9.113559   \n",
      "std                       2.096718                     3.389495   \n",
      "min                       0.000000                     0.000000   \n",
      "25%                       3.971262                     8.825748   \n",
      "50%                       4.869346                    10.065316   \n",
      "75%                       5.821176                    11.054809   \n",
      "max                      16.001945                    17.031899   \n",
      "\n",
      "       final.output.concentrate_sol  final.output.concentrate_au  \\\n",
      "count                  16490.000000                 16789.000000   \n",
      "mean                       8.301123                    39.467217   \n",
      "std                        3.825760                    13.917227   \n",
      "min                        0.000000                     0.000000   \n",
      "25%                        6.939185                    42.055722   \n",
      "50%                        8.557228                    44.498874   \n",
      "75%                       10.289741                    45.976222   \n",
      "max                       18.124851                    53.611374   \n",
      "\n",
      "       final.output.recovery  final.output.tail_ag  final.output.tail_pb  \\\n",
      "count           15339.000000          16794.000000          16677.000000   \n",
      "mean               67.213166              8.757048              2.360327   \n",
      "std                11.960446              3.634103              1.215576   \n",
      "min                 0.000000              0.000000              0.000000   \n",
      "25%                62.625685              7.610544              1.641604   \n",
      "50%                67.644601              9.220393              2.453690   \n",
      "75%                72.824595             10.971110              3.192404   \n",
      "max               100.000000             19.552149              6.086532   \n",
      "\n",
      "       final.output.tail_sol  final.output.tail_au  \\\n",
      "count           16715.000000          16794.000000   \n",
      "mean                9.303932              2.687512   \n",
      "std                 4.263208              1.272757   \n",
      "min                 0.000000              0.000000   \n",
      "25%                 7.870275              2.172953   \n",
      "50%                10.021968              2.781132   \n",
      "75%                11.648573              3.416936   \n",
      "max                22.317730              9.789625   \n",
      "\n",
      "       primary_cleaner.input.sulfate  ...  \\\n",
      "count                   15553.000000  ...   \n",
      "mean                      129.479789  ...   \n",
      "std                        45.386931  ...   \n",
      "min                         0.000003  ...   \n",
      "25%                       103.064021  ...   \n",
      "50%                       131.783108  ...   \n",
      "75%                       159.539839  ...   \n",
      "max                       251.999948  ...   \n",
      "\n",
      "       secondary_cleaner.state.floatbank4_a_air  \\\n",
      "count                              16731.000000   \n",
      "mean                                  19.101874   \n",
      "std                                    6.883163   \n",
      "min                                    0.000000   \n",
      "25%                                   14.508299   \n",
      "50%                                   19.986958   \n",
      "75%                                   24.983961   \n",
      "max                                   60.000000   \n",
      "\n",
      "       secondary_cleaner.state.floatbank4_a_level  \\\n",
      "count                                16747.000000   \n",
      "mean                                  -494.164481   \n",
      "std                                     84.803334   \n",
      "min                                   -799.920713   \n",
      "25%                                   -500.837689   \n",
      "50%                                   -499.778379   \n",
      "75%                                   -494.648754   \n",
      "max                                   -127.692333   \n",
      "\n",
      "       secondary_cleaner.state.floatbank4_b_air  \\\n",
      "count                              16768.000000   \n",
      "mean                                  14.778164   \n",
      "std                                    5.999149   \n",
      "min                                    0.000000   \n",
      "25%                                   10.741388   \n",
      "50%                                   14.943933   \n",
      "75%                                   20.023751   \n",
      "max                                   28.003828   \n",
      "\n",
      "       secondary_cleaner.state.floatbank4_b_level  \\\n",
      "count                                16767.000000   \n",
      "mean                                  -476.600082   \n",
      "std                                     89.381172   \n",
      "min                                   -800.021781   \n",
      "25%                                   -500.269182   \n",
      "50%                                   -499.593286   \n",
      "75%                                   -400.137948   \n",
      "max                                    -71.472472   \n",
      "\n",
      "       secondary_cleaner.state.floatbank5_a_air  \\\n",
      "count                              16775.000000   \n",
      "mean                                  15.779488   \n",
      "std                                    6.834703   \n",
      "min                                   -0.423260   \n",
      "25%                                   10.977713   \n",
      "50%                                   15.998340   \n",
      "75%                                   20.000701   \n",
      "max                                   63.116298   \n",
      "\n",
      "       secondary_cleaner.state.floatbank5_a_level  \\\n",
      "count                                16775.000000   \n",
      "mean                                  -500.230146   \n",
      "std                                     76.983542   \n",
      "min                                   -799.741097   \n",
      "25%                                   -500.530594   \n",
      "50%                                   -499.784231   \n",
      "75%                                   -496.531781   \n",
      "max                                   -275.073125   \n",
      "\n",
      "       secondary_cleaner.state.floatbank5_b_air  \\\n",
      "count                              16775.000000   \n",
      "mean                                  12.377241   \n",
      "std                                    6.219989   \n",
      "min                                    0.427084   \n",
      "25%                                    8.925586   \n",
      "50%                                   11.092839   \n",
      "75%                                   15.979467   \n",
      "max                                   39.846228   \n",
      "\n",
      "       secondary_cleaner.state.floatbank5_b_level  \\\n",
      "count                                16776.000000   \n",
      "mean                                  -498.956257   \n",
      "std                                     82.146207   \n",
      "min                                   -800.258209   \n",
      "25%                                   -500.147603   \n",
      "50%                                   -499.933330   \n",
      "75%                                   -498.418000   \n",
      "max                                   -120.190931   \n",
      "\n",
      "       secondary_cleaner.state.floatbank6_a_air  \\\n",
      "count                              16757.000000   \n",
      "mean                                  18.429208   \n",
      "std                                    6.958294   \n",
      "min                                    0.024270   \n",
      "25%                                   13.977626   \n",
      "50%                                   18.034960   \n",
      "75%                                   24.984992   \n",
      "max                                   54.876806   \n",
      "\n",
      "       secondary_cleaner.state.floatbank6_a_level  \n",
      "count                                16775.000000  \n",
      "mean                                  -521.801826  \n",
      "std                                     77.170888  \n",
      "min                                   -810.473526  \n",
      "25%                                   -501.080595  \n",
      "50%                                   -500.109898  \n",
      "75%                                   -499.565540  \n",
      "max                                    -39.784927  \n",
      "\n",
      "[8 rows x 86 columns]\n"
     ]
    },
    {
     "data": {
      "text/html": [
       "<div>\n",
       "<style scoped>\n",
       "    .dataframe tbody tr th:only-of-type {\n",
       "        vertical-align: middle;\n",
       "    }\n",
       "\n",
       "    .dataframe tbody tr th {\n",
       "        vertical-align: top;\n",
       "    }\n",
       "\n",
       "    .dataframe thead th {\n",
       "        text-align: right;\n",
       "    }\n",
       "</style>\n",
       "<table border=\"1\" class=\"dataframe\">\n",
       "  <thead>\n",
       "    <tr style=\"text-align: right;\">\n",
       "      <th></th>\n",
       "      <th>date</th>\n",
       "      <th>final.output.concentrate_ag</th>\n",
       "      <th>final.output.concentrate_pb</th>\n",
       "      <th>final.output.concentrate_sol</th>\n",
       "      <th>final.output.concentrate_au</th>\n",
       "      <th>final.output.recovery</th>\n",
       "      <th>final.output.tail_ag</th>\n",
       "      <th>final.output.tail_pb</th>\n",
       "      <th>final.output.tail_sol</th>\n",
       "      <th>final.output.tail_au</th>\n",
       "      <th>...</th>\n",
       "      <th>secondary_cleaner.state.floatbank4_a_air</th>\n",
       "      <th>secondary_cleaner.state.floatbank4_a_level</th>\n",
       "      <th>secondary_cleaner.state.floatbank4_b_air</th>\n",
       "      <th>secondary_cleaner.state.floatbank4_b_level</th>\n",
       "      <th>secondary_cleaner.state.floatbank5_a_air</th>\n",
       "      <th>secondary_cleaner.state.floatbank5_a_level</th>\n",
       "      <th>secondary_cleaner.state.floatbank5_b_air</th>\n",
       "      <th>secondary_cleaner.state.floatbank5_b_level</th>\n",
       "      <th>secondary_cleaner.state.floatbank6_a_air</th>\n",
       "      <th>secondary_cleaner.state.floatbank6_a_level</th>\n",
       "    </tr>\n",
       "  </thead>\n",
       "  <tbody>\n",
       "    <tr>\n",
       "      <th>0</th>\n",
       "      <td>2016-01-15 00:00:00</td>\n",
       "      <td>6.055403</td>\n",
       "      <td>9.889648</td>\n",
       "      <td>5.507324</td>\n",
       "      <td>42.192020</td>\n",
       "      <td>70.541216</td>\n",
       "      <td>10.411962</td>\n",
       "      <td>0.895447</td>\n",
       "      <td>16.904297</td>\n",
       "      <td>2.143149</td>\n",
       "      <td>...</td>\n",
       "      <td>14.016835</td>\n",
       "      <td>-502.488007</td>\n",
       "      <td>12.099931</td>\n",
       "      <td>-504.715942</td>\n",
       "      <td>9.925633</td>\n",
       "      <td>-498.310211</td>\n",
       "      <td>8.079666</td>\n",
       "      <td>-500.470978</td>\n",
       "      <td>14.151341</td>\n",
       "      <td>-605.841980</td>\n",
       "    </tr>\n",
       "    <tr>\n",
       "      <th>1</th>\n",
       "      <td>2016-01-15 01:00:00</td>\n",
       "      <td>6.029369</td>\n",
       "      <td>9.968944</td>\n",
       "      <td>5.257781</td>\n",
       "      <td>42.701629</td>\n",
       "      <td>69.266198</td>\n",
       "      <td>10.462676</td>\n",
       "      <td>0.927452</td>\n",
       "      <td>16.634514</td>\n",
       "      <td>2.224930</td>\n",
       "      <td>...</td>\n",
       "      <td>13.992281</td>\n",
       "      <td>-505.503262</td>\n",
       "      <td>11.950531</td>\n",
       "      <td>-501.331529</td>\n",
       "      <td>10.039245</td>\n",
       "      <td>-500.169983</td>\n",
       "      <td>7.984757</td>\n",
       "      <td>-500.582168</td>\n",
       "      <td>13.998353</td>\n",
       "      <td>-599.787184</td>\n",
       "    </tr>\n",
       "    <tr>\n",
       "      <th>2</th>\n",
       "      <td>2016-01-15 02:00:00</td>\n",
       "      <td>6.055926</td>\n",
       "      <td>10.213995</td>\n",
       "      <td>5.383759</td>\n",
       "      <td>42.657501</td>\n",
       "      <td>68.116445</td>\n",
       "      <td>10.507046</td>\n",
       "      <td>0.953716</td>\n",
       "      <td>16.208849</td>\n",
       "      <td>2.257889</td>\n",
       "      <td>...</td>\n",
       "      <td>14.015015</td>\n",
       "      <td>-502.520901</td>\n",
       "      <td>11.912783</td>\n",
       "      <td>-501.133383</td>\n",
       "      <td>10.070913</td>\n",
       "      <td>-500.129135</td>\n",
       "      <td>8.013877</td>\n",
       "      <td>-500.517572</td>\n",
       "      <td>14.028663</td>\n",
       "      <td>-601.427363</td>\n",
       "    </tr>\n",
       "    <tr>\n",
       "      <th>3</th>\n",
       "      <td>2016-01-15 03:00:00</td>\n",
       "      <td>6.047977</td>\n",
       "      <td>9.977019</td>\n",
       "      <td>4.858634</td>\n",
       "      <td>42.689819</td>\n",
       "      <td>68.347543</td>\n",
       "      <td>10.422762</td>\n",
       "      <td>0.883763</td>\n",
       "      <td>16.532835</td>\n",
       "      <td>2.146849</td>\n",
       "      <td>...</td>\n",
       "      <td>14.036510</td>\n",
       "      <td>-500.857308</td>\n",
       "      <td>11.999550</td>\n",
       "      <td>-501.193686</td>\n",
       "      <td>9.970366</td>\n",
       "      <td>-499.201640</td>\n",
       "      <td>7.977324</td>\n",
       "      <td>-500.255908</td>\n",
       "      <td>14.005551</td>\n",
       "      <td>-599.996129</td>\n",
       "    </tr>\n",
       "    <tr>\n",
       "      <th>4</th>\n",
       "      <td>2016-01-15 04:00:00</td>\n",
       "      <td>6.148599</td>\n",
       "      <td>10.142511</td>\n",
       "      <td>4.939416</td>\n",
       "      <td>42.774141</td>\n",
       "      <td>66.927016</td>\n",
       "      <td>10.360302</td>\n",
       "      <td>0.792826</td>\n",
       "      <td>16.525686</td>\n",
       "      <td>2.055292</td>\n",
       "      <td>...</td>\n",
       "      <td>14.027298</td>\n",
       "      <td>-499.838632</td>\n",
       "      <td>11.953070</td>\n",
       "      <td>-501.053894</td>\n",
       "      <td>9.925709</td>\n",
       "      <td>-501.686727</td>\n",
       "      <td>7.894242</td>\n",
       "      <td>-500.356035</td>\n",
       "      <td>13.996647</td>\n",
       "      <td>-601.496691</td>\n",
       "    </tr>\n",
       "  </tbody>\n",
       "</table>\n",
       "<p>5 rows × 87 columns</p>\n",
       "</div>"
      ],
      "text/plain": [
       "                  date  final.output.concentrate_ag  \\\n",
       "0  2016-01-15 00:00:00                     6.055403   \n",
       "1  2016-01-15 01:00:00                     6.029369   \n",
       "2  2016-01-15 02:00:00                     6.055926   \n",
       "3  2016-01-15 03:00:00                     6.047977   \n",
       "4  2016-01-15 04:00:00                     6.148599   \n",
       "\n",
       "   final.output.concentrate_pb  final.output.concentrate_sol  \\\n",
       "0                     9.889648                      5.507324   \n",
       "1                     9.968944                      5.257781   \n",
       "2                    10.213995                      5.383759   \n",
       "3                     9.977019                      4.858634   \n",
       "4                    10.142511                      4.939416   \n",
       "\n",
       "   final.output.concentrate_au  final.output.recovery  final.output.tail_ag  \\\n",
       "0                    42.192020              70.541216             10.411962   \n",
       "1                    42.701629              69.266198             10.462676   \n",
       "2                    42.657501              68.116445             10.507046   \n",
       "3                    42.689819              68.347543             10.422762   \n",
       "4                    42.774141              66.927016             10.360302   \n",
       "\n",
       "   final.output.tail_pb  final.output.tail_sol  final.output.tail_au  ...  \\\n",
       "0              0.895447              16.904297              2.143149  ...   \n",
       "1              0.927452              16.634514              2.224930  ...   \n",
       "2              0.953716              16.208849              2.257889  ...   \n",
       "3              0.883763              16.532835              2.146849  ...   \n",
       "4              0.792826              16.525686              2.055292  ...   \n",
       "\n",
       "   secondary_cleaner.state.floatbank4_a_air  \\\n",
       "0                                 14.016835   \n",
       "1                                 13.992281   \n",
       "2                                 14.015015   \n",
       "3                                 14.036510   \n",
       "4                                 14.027298   \n",
       "\n",
       "   secondary_cleaner.state.floatbank4_a_level  \\\n",
       "0                                 -502.488007   \n",
       "1                                 -505.503262   \n",
       "2                                 -502.520901   \n",
       "3                                 -500.857308   \n",
       "4                                 -499.838632   \n",
       "\n",
       "   secondary_cleaner.state.floatbank4_b_air  \\\n",
       "0                                 12.099931   \n",
       "1                                 11.950531   \n",
       "2                                 11.912783   \n",
       "3                                 11.999550   \n",
       "4                                 11.953070   \n",
       "\n",
       "   secondary_cleaner.state.floatbank4_b_level  \\\n",
       "0                                 -504.715942   \n",
       "1                                 -501.331529   \n",
       "2                                 -501.133383   \n",
       "3                                 -501.193686   \n",
       "4                                 -501.053894   \n",
       "\n",
       "   secondary_cleaner.state.floatbank5_a_air  \\\n",
       "0                                  9.925633   \n",
       "1                                 10.039245   \n",
       "2                                 10.070913   \n",
       "3                                  9.970366   \n",
       "4                                  9.925709   \n",
       "\n",
       "   secondary_cleaner.state.floatbank5_a_level  \\\n",
       "0                                 -498.310211   \n",
       "1                                 -500.169983   \n",
       "2                                 -500.129135   \n",
       "3                                 -499.201640   \n",
       "4                                 -501.686727   \n",
       "\n",
       "   secondary_cleaner.state.floatbank5_b_air  \\\n",
       "0                                  8.079666   \n",
       "1                                  7.984757   \n",
       "2                                  8.013877   \n",
       "3                                  7.977324   \n",
       "4                                  7.894242   \n",
       "\n",
       "   secondary_cleaner.state.floatbank5_b_level  \\\n",
       "0                                 -500.470978   \n",
       "1                                 -500.582168   \n",
       "2                                 -500.517572   \n",
       "3                                 -500.255908   \n",
       "4                                 -500.356035   \n",
       "\n",
       "   secondary_cleaner.state.floatbank6_a_air  \\\n",
       "0                                 14.151341   \n",
       "1                                 13.998353   \n",
       "2                                 14.028663   \n",
       "3                                 14.005551   \n",
       "4                                 13.996647   \n",
       "\n",
       "   secondary_cleaner.state.floatbank6_a_level  \n",
       "0                                 -605.841980  \n",
       "1                                 -599.787184  \n",
       "2                                 -601.427363  \n",
       "3                                 -599.996129  \n",
       "4                                 -601.496691  \n",
       "\n",
       "[5 rows x 87 columns]"
      ]
     },
     "execution_count": 55,
     "metadata": {},
     "output_type": "execute_result"
    }
   ],
   "source": [
    "print(train.info())\n",
    "print(train.describe())\n",
    "train.head()"
   ]
  },
  {
   "cell_type": "code",
   "execution_count": 56,
   "id": "b00bbcf3",
   "metadata": {
    "scrolled": true
   },
   "outputs": [
    {
     "name": "stdout",
     "output_type": "stream",
     "text": [
      "<class 'pandas.core.frame.DataFrame'>\n",
      "RangeIndex: 5856 entries, 0 to 5855\n",
      "Data columns (total 53 columns):\n",
      " #   Column                                      Non-Null Count  Dtype  \n",
      "---  ------                                      --------------  -----  \n",
      " 0   date                                        5856 non-null   object \n",
      " 1   primary_cleaner.input.sulfate               5554 non-null   float64\n",
      " 2   primary_cleaner.input.depressant            5572 non-null   float64\n",
      " 3   primary_cleaner.input.feed_size             5856 non-null   float64\n",
      " 4   primary_cleaner.input.xanthate              5690 non-null   float64\n",
      " 5   primary_cleaner.state.floatbank8_a_air      5840 non-null   float64\n",
      " 6   primary_cleaner.state.floatbank8_a_level    5840 non-null   float64\n",
      " 7   primary_cleaner.state.floatbank8_b_air      5840 non-null   float64\n",
      " 8   primary_cleaner.state.floatbank8_b_level    5840 non-null   float64\n",
      " 9   primary_cleaner.state.floatbank8_c_air      5840 non-null   float64\n",
      " 10  primary_cleaner.state.floatbank8_c_level    5840 non-null   float64\n",
      " 11  primary_cleaner.state.floatbank8_d_air      5840 non-null   float64\n",
      " 12  primary_cleaner.state.floatbank8_d_level    5840 non-null   float64\n",
      " 13  rougher.input.feed_ag                       5840 non-null   float64\n",
      " 14  rougher.input.feed_pb                       5840 non-null   float64\n",
      " 15  rougher.input.feed_rate                     5816 non-null   float64\n",
      " 16  rougher.input.feed_size                     5834 non-null   float64\n",
      " 17  rougher.input.feed_sol                      5789 non-null   float64\n",
      " 18  rougher.input.feed_au                       5840 non-null   float64\n",
      " 19  rougher.input.floatbank10_sulfate           5599 non-null   float64\n",
      " 20  rougher.input.floatbank10_xanthate          5733 non-null   float64\n",
      " 21  rougher.input.floatbank11_sulfate           5801 non-null   float64\n",
      " 22  rougher.input.floatbank11_xanthate          5503 non-null   float64\n",
      " 23  rougher.state.floatbank10_a_air             5839 non-null   float64\n",
      " 24  rougher.state.floatbank10_a_level           5840 non-null   float64\n",
      " 25  rougher.state.floatbank10_b_air             5839 non-null   float64\n",
      " 26  rougher.state.floatbank10_b_level           5840 non-null   float64\n",
      " 27  rougher.state.floatbank10_c_air             5839 non-null   float64\n",
      " 28  rougher.state.floatbank10_c_level           5840 non-null   float64\n",
      " 29  rougher.state.floatbank10_d_air             5839 non-null   float64\n",
      " 30  rougher.state.floatbank10_d_level           5840 non-null   float64\n",
      " 31  rougher.state.floatbank10_e_air             5839 non-null   float64\n",
      " 32  rougher.state.floatbank10_e_level           5840 non-null   float64\n",
      " 33  rougher.state.floatbank10_f_air             5839 non-null   float64\n",
      " 34  rougher.state.floatbank10_f_level           5840 non-null   float64\n",
      " 35  secondary_cleaner.state.floatbank2_a_air    5836 non-null   float64\n",
      " 36  secondary_cleaner.state.floatbank2_a_level  5840 non-null   float64\n",
      " 37  secondary_cleaner.state.floatbank2_b_air    5833 non-null   float64\n",
      " 38  secondary_cleaner.state.floatbank2_b_level  5840 non-null   float64\n",
      " 39  secondary_cleaner.state.floatbank3_a_air    5822 non-null   float64\n",
      " 40  secondary_cleaner.state.floatbank3_a_level  5840 non-null   float64\n",
      " 41  secondary_cleaner.state.floatbank3_b_air    5840 non-null   float64\n",
      " 42  secondary_cleaner.state.floatbank3_b_level  5840 non-null   float64\n",
      " 43  secondary_cleaner.state.floatbank4_a_air    5840 non-null   float64\n",
      " 44  secondary_cleaner.state.floatbank4_a_level  5840 non-null   float64\n",
      " 45  secondary_cleaner.state.floatbank4_b_air    5840 non-null   float64\n",
      " 46  secondary_cleaner.state.floatbank4_b_level  5840 non-null   float64\n",
      " 47  secondary_cleaner.state.floatbank5_a_air    5840 non-null   float64\n",
      " 48  secondary_cleaner.state.floatbank5_a_level  5840 non-null   float64\n",
      " 49  secondary_cleaner.state.floatbank5_b_air    5840 non-null   float64\n",
      " 50  secondary_cleaner.state.floatbank5_b_level  5840 non-null   float64\n",
      " 51  secondary_cleaner.state.floatbank6_a_air    5840 non-null   float64\n",
      " 52  secondary_cleaner.state.floatbank6_a_level  5840 non-null   float64\n",
      "dtypes: float64(52), object(1)\n",
      "memory usage: 2.4+ MB\n",
      "None\n",
      "       primary_cleaner.input.sulfate  primary_cleaner.input.depressant  \\\n",
      "count                    5554.000000                       5572.000000   \n",
      "mean                      170.515243                          8.482873   \n",
      "std                        49.608602                          3.353105   \n",
      "min                         0.000103                          0.000031   \n",
      "25%                       143.340022                          6.411500   \n",
      "50%                       176.103893                          8.023252   \n",
      "75%                       207.240761                         10.017725   \n",
      "max                       274.409626                         40.024582   \n",
      "\n",
      "       primary_cleaner.input.feed_size  primary_cleaner.input.xanthate  \\\n",
      "count                      5856.000000                     5690.000000   \n",
      "mean                          7.264651                        1.321420   \n",
      "std                           0.611526                        0.693246   \n",
      "min                           5.650000                        0.000003   \n",
      "25%                           6.885625                        0.888769   \n",
      "50%                           7.259333                        1.183362   \n",
      "75%                           7.650000                        1.763797   \n",
      "max                          15.500000                        5.433169   \n",
      "\n",
      "       primary_cleaner.state.floatbank8_a_air  \\\n",
      "count                             5840.000000   \n",
      "mean                              1481.990241   \n",
      "std                                310.453166   \n",
      "min                                  0.000000   \n",
      "25%                               1497.190681   \n",
      "50%                               1554.659783   \n",
      "75%                               1601.681656   \n",
      "max                               2212.432090   \n",
      "\n",
      "       primary_cleaner.state.floatbank8_a_level  \\\n",
      "count                               5840.000000   \n",
      "mean                                -509.057796   \n",
      "std                                   61.339256   \n",
      "min                                 -799.773788   \n",
      "25%                                 -500.455211   \n",
      "50%                                 -499.997402   \n",
      "75%                                 -499.575313   \n",
      "max                                  -57.195404   \n",
      "\n",
      "       primary_cleaner.state.floatbank8_b_air  \\\n",
      "count                             5840.000000   \n",
      "mean                              1486.908670   \n",
      "std                                313.224286   \n",
      "min                                  0.000000   \n",
      "25%                               1497.150234   \n",
      "50%                               1553.268084   \n",
      "75%                               1601.784707   \n",
      "max                               1975.147923   \n",
      "\n",
      "       primary_cleaner.state.floatbank8_b_level  \\\n",
      "count                               5840.000000   \n",
      "mean                                -511.743956   \n",
      "std                                   67.139074   \n",
      "min                                 -800.029078   \n",
      "25%                                 -500.936639   \n",
      "50%                                 -500.066588   \n",
      "75%                                 -499.323361   \n",
      "max                                 -142.527229   \n",
      "\n",
      "       primary_cleaner.state.floatbank8_c_air  \\\n",
      "count                             5840.000000   \n",
      "mean                              1468.495216   \n",
      "std                                309.980748   \n",
      "min                                  0.000000   \n",
      "25%                               1437.050321   \n",
      "50%                               1546.160672   \n",
      "75%                               1600.785573   \n",
      "max                               1715.053773   \n",
      "\n",
      "       primary_cleaner.state.floatbank8_c_level  ...  \\\n",
      "count                               5840.000000  ...   \n",
      "mean                                -509.741212  ...   \n",
      "std                                   62.671873  ...   \n",
      "min                                 -799.995127  ...   \n",
      "25%                                 -501.300441  ...   \n",
      "50%                                 -500.079537  ...   \n",
      "75%                                 -499.009545  ...   \n",
      "max                                 -150.937035  ...   \n",
      "\n",
      "       secondary_cleaner.state.floatbank4_a_air  \\\n",
      "count                               5840.000000   \n",
      "mean                                  15.636031   \n",
      "std                                    4.660835   \n",
      "min                                    0.000000   \n",
      "25%                                   12.057838   \n",
      "50%                                   17.001867   \n",
      "75%                                   18.030985   \n",
      "max                                   30.051797   \n",
      "\n",
      "       secondary_cleaner.state.floatbank4_a_level  \\\n",
      "count                                 5840.000000   \n",
      "mean                                  -516.266074   \n",
      "std                                     62.756748   \n",
      "min                                   -799.798523   \n",
      "25%                                   -501.054741   \n",
      "50%                                   -500.160145   \n",
      "75%                                   -499.441529   \n",
      "max                                   -401.565212   \n",
      "\n",
      "       secondary_cleaner.state.floatbank4_b_air  \\\n",
      "count                               5840.000000   \n",
      "mean                                  13.145702   \n",
      "std                                    4.304086   \n",
      "min                                    0.000000   \n",
      "25%                                   11.880119   \n",
      "50%                                   14.952102   \n",
      "75%                                   15.940011   \n",
      "max                                   31.269706   \n",
      "\n",
      "       secondary_cleaner.state.floatbank4_b_level  \\\n",
      "count                                 5840.000000   \n",
      "mean                                  -476.338907   \n",
      "std                                    105.549424   \n",
      "min                                   -800.836914   \n",
      "25%                                   -500.419113   \n",
      "50%                                   -499.644328   \n",
      "75%                                   -401.523664   \n",
      "max                                     -6.506986   \n",
      "\n",
      "       secondary_cleaner.state.floatbank5_a_air  \\\n",
      "count                               5840.000000   \n",
      "mean                                  12.308967   \n",
      "std                                    3.762827   \n",
      "min                                   -0.223393   \n",
      "25%                                   10.123459   \n",
      "50%                                   12.062877   \n",
      "75%                                   15.017881   \n",
      "max                                   25.258848   \n",
      "\n",
      "       secondary_cleaner.state.floatbank5_a_level  \\\n",
      "count                                 5840.000000   \n",
      "mean                                  -512.208126   \n",
      "std                                     58.864651   \n",
      "min                                   -799.661076   \n",
      "25%                                   -500.879383   \n",
      "50%                                   -500.047621   \n",
      "75%                                   -499.297033   \n",
      "max                                   -244.483566   \n",
      "\n",
      "       secondary_cleaner.state.floatbank5_b_air  \\\n",
      "count                               5840.000000   \n",
      "mean                                   9.470986   \n",
      "std                                    3.312471   \n",
      "min                                    0.528083   \n",
      "25%                                    7.991208   \n",
      "50%                                    9.980774   \n",
      "75%                                   11.992176   \n",
      "max                                   14.090194   \n",
      "\n",
      "       secondary_cleaner.state.floatbank5_b_level  \\\n",
      "count                                 5840.000000   \n",
      "mean                                  -505.017827   \n",
      "std                                     68.785898   \n",
      "min                                   -800.220337   \n",
      "25%                                   -500.223089   \n",
      "50%                                   -500.001338   \n",
      "75%                                   -499.722835   \n",
      "max                                   -126.463446   \n",
      "\n",
      "       secondary_cleaner.state.floatbank6_a_air  \\\n",
      "count                               5840.000000   \n",
      "mean                                  16.678722   \n",
      "std                                    5.404514   \n",
      "min                                   -0.079426   \n",
      "25%                                   13.012422   \n",
      "50%                                   16.007242   \n",
      "75%                                   21.009076   \n",
      "max                                   26.705889   \n",
      "\n",
      "       secondary_cleaner.state.floatbank6_a_level  \n",
      "count                                 5840.000000  \n",
      "mean                                  -512.351694  \n",
      "std                                     69.919839  \n",
      "min                                   -809.859706  \n",
      "25%                                   -500.833821  \n",
      "50%                                   -500.041085  \n",
      "75%                                   -499.395621  \n",
      "max                                    -29.093593  \n",
      "\n",
      "[8 rows x 52 columns]\n"
     ]
    },
    {
     "data": {
      "text/html": [
       "<div>\n",
       "<style scoped>\n",
       "    .dataframe tbody tr th:only-of-type {\n",
       "        vertical-align: middle;\n",
       "    }\n",
       "\n",
       "    .dataframe tbody tr th {\n",
       "        vertical-align: top;\n",
       "    }\n",
       "\n",
       "    .dataframe thead th {\n",
       "        text-align: right;\n",
       "    }\n",
       "</style>\n",
       "<table border=\"1\" class=\"dataframe\">\n",
       "  <thead>\n",
       "    <tr style=\"text-align: right;\">\n",
       "      <th></th>\n",
       "      <th>date</th>\n",
       "      <th>primary_cleaner.input.sulfate</th>\n",
       "      <th>primary_cleaner.input.depressant</th>\n",
       "      <th>primary_cleaner.input.feed_size</th>\n",
       "      <th>primary_cleaner.input.xanthate</th>\n",
       "      <th>primary_cleaner.state.floatbank8_a_air</th>\n",
       "      <th>primary_cleaner.state.floatbank8_a_level</th>\n",
       "      <th>primary_cleaner.state.floatbank8_b_air</th>\n",
       "      <th>primary_cleaner.state.floatbank8_b_level</th>\n",
       "      <th>primary_cleaner.state.floatbank8_c_air</th>\n",
       "      <th>...</th>\n",
       "      <th>secondary_cleaner.state.floatbank4_a_air</th>\n",
       "      <th>secondary_cleaner.state.floatbank4_a_level</th>\n",
       "      <th>secondary_cleaner.state.floatbank4_b_air</th>\n",
       "      <th>secondary_cleaner.state.floatbank4_b_level</th>\n",
       "      <th>secondary_cleaner.state.floatbank5_a_air</th>\n",
       "      <th>secondary_cleaner.state.floatbank5_a_level</th>\n",
       "      <th>secondary_cleaner.state.floatbank5_b_air</th>\n",
       "      <th>secondary_cleaner.state.floatbank5_b_level</th>\n",
       "      <th>secondary_cleaner.state.floatbank6_a_air</th>\n",
       "      <th>secondary_cleaner.state.floatbank6_a_level</th>\n",
       "    </tr>\n",
       "  </thead>\n",
       "  <tbody>\n",
       "    <tr>\n",
       "      <th>0</th>\n",
       "      <td>2016-09-01 00:59:59</td>\n",
       "      <td>210.800909</td>\n",
       "      <td>14.993118</td>\n",
       "      <td>8.080000</td>\n",
       "      <td>1.005021</td>\n",
       "      <td>1398.981301</td>\n",
       "      <td>-500.225577</td>\n",
       "      <td>1399.144926</td>\n",
       "      <td>-499.919735</td>\n",
       "      <td>1400.102998</td>\n",
       "      <td>...</td>\n",
       "      <td>12.023554</td>\n",
       "      <td>-497.795834</td>\n",
       "      <td>8.016656</td>\n",
       "      <td>-501.289139</td>\n",
       "      <td>7.946562</td>\n",
       "      <td>-432.317850</td>\n",
       "      <td>4.872511</td>\n",
       "      <td>-500.037437</td>\n",
       "      <td>26.705889</td>\n",
       "      <td>-499.709414</td>\n",
       "    </tr>\n",
       "    <tr>\n",
       "      <th>1</th>\n",
       "      <td>2016-09-01 01:59:59</td>\n",
       "      <td>215.392455</td>\n",
       "      <td>14.987471</td>\n",
       "      <td>8.080000</td>\n",
       "      <td>0.990469</td>\n",
       "      <td>1398.777912</td>\n",
       "      <td>-500.057435</td>\n",
       "      <td>1398.055362</td>\n",
       "      <td>-499.778182</td>\n",
       "      <td>1396.151033</td>\n",
       "      <td>...</td>\n",
       "      <td>12.058140</td>\n",
       "      <td>-498.695773</td>\n",
       "      <td>8.130979</td>\n",
       "      <td>-499.634209</td>\n",
       "      <td>7.958270</td>\n",
       "      <td>-525.839648</td>\n",
       "      <td>4.878850</td>\n",
       "      <td>-500.162375</td>\n",
       "      <td>25.019940</td>\n",
       "      <td>-499.819438</td>\n",
       "    </tr>\n",
       "    <tr>\n",
       "      <th>2</th>\n",
       "      <td>2016-09-01 02:59:59</td>\n",
       "      <td>215.259946</td>\n",
       "      <td>12.884934</td>\n",
       "      <td>7.786667</td>\n",
       "      <td>0.996043</td>\n",
       "      <td>1398.493666</td>\n",
       "      <td>-500.868360</td>\n",
       "      <td>1398.860436</td>\n",
       "      <td>-499.764529</td>\n",
       "      <td>1398.075709</td>\n",
       "      <td>...</td>\n",
       "      <td>11.962366</td>\n",
       "      <td>-498.767484</td>\n",
       "      <td>8.096893</td>\n",
       "      <td>-500.827423</td>\n",
       "      <td>8.071056</td>\n",
       "      <td>-500.801673</td>\n",
       "      <td>4.905125</td>\n",
       "      <td>-499.828510</td>\n",
       "      <td>24.994862</td>\n",
       "      <td>-500.622559</td>\n",
       "    </tr>\n",
       "    <tr>\n",
       "      <th>3</th>\n",
       "      <td>2016-09-01 03:59:59</td>\n",
       "      <td>215.336236</td>\n",
       "      <td>12.006805</td>\n",
       "      <td>7.640000</td>\n",
       "      <td>0.863514</td>\n",
       "      <td>1399.618111</td>\n",
       "      <td>-498.863574</td>\n",
       "      <td>1397.440120</td>\n",
       "      <td>-499.211024</td>\n",
       "      <td>1400.129303</td>\n",
       "      <td>...</td>\n",
       "      <td>12.033091</td>\n",
       "      <td>-498.350935</td>\n",
       "      <td>8.074946</td>\n",
       "      <td>-499.474407</td>\n",
       "      <td>7.897085</td>\n",
       "      <td>-500.868509</td>\n",
       "      <td>4.931400</td>\n",
       "      <td>-499.963623</td>\n",
       "      <td>24.948919</td>\n",
       "      <td>-498.709987</td>\n",
       "    </tr>\n",
       "    <tr>\n",
       "      <th>4</th>\n",
       "      <td>2016-09-01 04:59:59</td>\n",
       "      <td>199.099327</td>\n",
       "      <td>10.682530</td>\n",
       "      <td>7.530000</td>\n",
       "      <td>0.805575</td>\n",
       "      <td>1401.268123</td>\n",
       "      <td>-500.808305</td>\n",
       "      <td>1398.128818</td>\n",
       "      <td>-499.504543</td>\n",
       "      <td>1402.172226</td>\n",
       "      <td>...</td>\n",
       "      <td>12.025367</td>\n",
       "      <td>-500.786497</td>\n",
       "      <td>8.054678</td>\n",
       "      <td>-500.397500</td>\n",
       "      <td>8.107890</td>\n",
       "      <td>-509.526725</td>\n",
       "      <td>4.957674</td>\n",
       "      <td>-500.360026</td>\n",
       "      <td>25.003331</td>\n",
       "      <td>-500.856333</td>\n",
       "    </tr>\n",
       "  </tbody>\n",
       "</table>\n",
       "<p>5 rows × 53 columns</p>\n",
       "</div>"
      ],
      "text/plain": [
       "                  date  primary_cleaner.input.sulfate  \\\n",
       "0  2016-09-01 00:59:59                     210.800909   \n",
       "1  2016-09-01 01:59:59                     215.392455   \n",
       "2  2016-09-01 02:59:59                     215.259946   \n",
       "3  2016-09-01 03:59:59                     215.336236   \n",
       "4  2016-09-01 04:59:59                     199.099327   \n",
       "\n",
       "   primary_cleaner.input.depressant  primary_cleaner.input.feed_size  \\\n",
       "0                         14.993118                         8.080000   \n",
       "1                         14.987471                         8.080000   \n",
       "2                         12.884934                         7.786667   \n",
       "3                         12.006805                         7.640000   \n",
       "4                         10.682530                         7.530000   \n",
       "\n",
       "   primary_cleaner.input.xanthate  primary_cleaner.state.floatbank8_a_air  \\\n",
       "0                        1.005021                             1398.981301   \n",
       "1                        0.990469                             1398.777912   \n",
       "2                        0.996043                             1398.493666   \n",
       "3                        0.863514                             1399.618111   \n",
       "4                        0.805575                             1401.268123   \n",
       "\n",
       "   primary_cleaner.state.floatbank8_a_level  \\\n",
       "0                               -500.225577   \n",
       "1                               -500.057435   \n",
       "2                               -500.868360   \n",
       "3                               -498.863574   \n",
       "4                               -500.808305   \n",
       "\n",
       "   primary_cleaner.state.floatbank8_b_air  \\\n",
       "0                             1399.144926   \n",
       "1                             1398.055362   \n",
       "2                             1398.860436   \n",
       "3                             1397.440120   \n",
       "4                             1398.128818   \n",
       "\n",
       "   primary_cleaner.state.floatbank8_b_level  \\\n",
       "0                               -499.919735   \n",
       "1                               -499.778182   \n",
       "2                               -499.764529   \n",
       "3                               -499.211024   \n",
       "4                               -499.504543   \n",
       "\n",
       "   primary_cleaner.state.floatbank8_c_air  ...  \\\n",
       "0                             1400.102998  ...   \n",
       "1                             1396.151033  ...   \n",
       "2                             1398.075709  ...   \n",
       "3                             1400.129303  ...   \n",
       "4                             1402.172226  ...   \n",
       "\n",
       "   secondary_cleaner.state.floatbank4_a_air  \\\n",
       "0                                 12.023554   \n",
       "1                                 12.058140   \n",
       "2                                 11.962366   \n",
       "3                                 12.033091   \n",
       "4                                 12.025367   \n",
       "\n",
       "   secondary_cleaner.state.floatbank4_a_level  \\\n",
       "0                                 -497.795834   \n",
       "1                                 -498.695773   \n",
       "2                                 -498.767484   \n",
       "3                                 -498.350935   \n",
       "4                                 -500.786497   \n",
       "\n",
       "   secondary_cleaner.state.floatbank4_b_air  \\\n",
       "0                                  8.016656   \n",
       "1                                  8.130979   \n",
       "2                                  8.096893   \n",
       "3                                  8.074946   \n",
       "4                                  8.054678   \n",
       "\n",
       "   secondary_cleaner.state.floatbank4_b_level  \\\n",
       "0                                 -501.289139   \n",
       "1                                 -499.634209   \n",
       "2                                 -500.827423   \n",
       "3                                 -499.474407   \n",
       "4                                 -500.397500   \n",
       "\n",
       "   secondary_cleaner.state.floatbank5_a_air  \\\n",
       "0                                  7.946562   \n",
       "1                                  7.958270   \n",
       "2                                  8.071056   \n",
       "3                                  7.897085   \n",
       "4                                  8.107890   \n",
       "\n",
       "   secondary_cleaner.state.floatbank5_a_level  \\\n",
       "0                                 -432.317850   \n",
       "1                                 -525.839648   \n",
       "2                                 -500.801673   \n",
       "3                                 -500.868509   \n",
       "4                                 -509.526725   \n",
       "\n",
       "   secondary_cleaner.state.floatbank5_b_air  \\\n",
       "0                                  4.872511   \n",
       "1                                  4.878850   \n",
       "2                                  4.905125   \n",
       "3                                  4.931400   \n",
       "4                                  4.957674   \n",
       "\n",
       "   secondary_cleaner.state.floatbank5_b_level  \\\n",
       "0                                 -500.037437   \n",
       "1                                 -500.162375   \n",
       "2                                 -499.828510   \n",
       "3                                 -499.963623   \n",
       "4                                 -500.360026   \n",
       "\n",
       "   secondary_cleaner.state.floatbank6_a_air  \\\n",
       "0                                 26.705889   \n",
       "1                                 25.019940   \n",
       "2                                 24.994862   \n",
       "3                                 24.948919   \n",
       "4                                 25.003331   \n",
       "\n",
       "   secondary_cleaner.state.floatbank6_a_level  \n",
       "0                                 -499.709414  \n",
       "1                                 -499.819438  \n",
       "2                                 -500.622559  \n",
       "3                                 -498.709987  \n",
       "4                                 -500.856333  \n",
       "\n",
       "[5 rows x 53 columns]"
      ]
     },
     "execution_count": 56,
     "metadata": {},
     "output_type": "execute_result"
    }
   ],
   "source": [
    "print(test.info())\n",
    "print(test.describe())\n",
    "test.head()"
   ]
  },
  {
   "cell_type": "code",
   "execution_count": 57,
   "id": "733a2498",
   "metadata": {},
   "outputs": [
    {
     "name": "stdout",
     "output_type": "stream",
     "text": [
      "<class 'pandas.core.frame.DataFrame'>\n",
      "RangeIndex: 22716 entries, 0 to 22715\n",
      "Data columns (total 87 columns):\n",
      " #   Column                                              Non-Null Count  Dtype  \n",
      "---  ------                                              --------------  -----  \n",
      " 0   date                                                22716 non-null  object \n",
      " 1   final.output.concentrate_ag                         22627 non-null  float64\n",
      " 2   final.output.concentrate_pb                         22629 non-null  float64\n",
      " 3   final.output.concentrate_sol                        22331 non-null  float64\n",
      " 4   final.output.concentrate_au                         22630 non-null  float64\n",
      " 5   final.output.recovery                               20753 non-null  float64\n",
      " 6   final.output.tail_ag                                22633 non-null  float64\n",
      " 7   final.output.tail_pb                                22516 non-null  float64\n",
      " 8   final.output.tail_sol                               22445 non-null  float64\n",
      " 9   final.output.tail_au                                22635 non-null  float64\n",
      " 10  primary_cleaner.input.sulfate                       21107 non-null  float64\n",
      " 11  primary_cleaner.input.depressant                    21170 non-null  float64\n",
      " 12  primary_cleaner.input.feed_size                     22716 non-null  float64\n",
      " 13  primary_cleaner.input.xanthate                      21565 non-null  float64\n",
      " 14  primary_cleaner.output.concentrate_ag               22618 non-null  float64\n",
      " 15  primary_cleaner.output.concentrate_pb               22268 non-null  float64\n",
      " 16  primary_cleaner.output.concentrate_sol              21918 non-null  float64\n",
      " 17  primary_cleaner.output.concentrate_au               22618 non-null  float64\n",
      " 18  primary_cleaner.output.tail_ag                      22614 non-null  float64\n",
      " 19  primary_cleaner.output.tail_pb                      22594 non-null  float64\n",
      " 20  primary_cleaner.output.tail_sol                     22365 non-null  float64\n",
      " 21  primary_cleaner.output.tail_au                      22617 non-null  float64\n",
      " 22  primary_cleaner.state.floatbank8_a_air              22660 non-null  float64\n",
      " 23  primary_cleaner.state.floatbank8_a_level            22667 non-null  float64\n",
      " 24  primary_cleaner.state.floatbank8_b_air              22660 non-null  float64\n",
      " 25  primary_cleaner.state.floatbank8_b_level            22673 non-null  float64\n",
      " 26  primary_cleaner.state.floatbank8_c_air              22662 non-null  float64\n",
      " 27  primary_cleaner.state.floatbank8_c_level            22673 non-null  float64\n",
      " 28  primary_cleaner.state.floatbank8_d_air              22661 non-null  float64\n",
      " 29  primary_cleaner.state.floatbank8_d_level            22673 non-null  float64\n",
      " 30  rougher.calculation.sulfate_to_au_concentrate       22672 non-null  float64\n",
      " 31  rougher.calculation.floatbank10_sulfate_to_au_feed  22672 non-null  float64\n",
      " 32  rougher.calculation.floatbank11_sulfate_to_au_feed  22672 non-null  float64\n",
      " 33  rougher.calculation.au_pb_ratio                     21089 non-null  float64\n",
      " 34  rougher.input.feed_ag                               22618 non-null  float64\n",
      " 35  rougher.input.feed_pb                               22472 non-null  float64\n",
      " 36  rougher.input.feed_rate                             22163 non-null  float64\n",
      " 37  rougher.input.feed_size                             22277 non-null  float64\n",
      " 38  rougher.input.feed_sol                              22357 non-null  float64\n",
      " 39  rougher.input.feed_au                               22617 non-null  float64\n",
      " 40  rougher.input.floatbank10_sulfate                   21415 non-null  float64\n",
      " 41  rougher.input.floatbank10_xanthate                  22247 non-null  float64\n",
      " 42  rougher.input.floatbank11_sulfate                   22038 non-null  float64\n",
      " 43  rougher.input.floatbank11_xanthate                  20459 non-null  float64\n",
      " 44  rougher.output.concentrate_ag                       22618 non-null  float64\n",
      " 45  rougher.output.concentrate_pb                       22618 non-null  float64\n",
      " 46  rougher.output.concentrate_sol                      22526 non-null  float64\n",
      " 47  rougher.output.concentrate_au                       22618 non-null  float64\n",
      " 48  rougher.output.recovery                             19597 non-null  float64\n",
      " 49  rougher.output.tail_ag                              19979 non-null  float64\n",
      " 50  rougher.output.tail_pb                              22618 non-null  float64\n",
      " 51  rougher.output.tail_sol                             19980 non-null  float64\n",
      " 52  rougher.output.tail_au                              19980 non-null  float64\n",
      " 53  rougher.state.floatbank10_a_air                     22646 non-null  float64\n",
      " 54  rougher.state.floatbank10_a_level                   22647 non-null  float64\n",
      " 55  rougher.state.floatbank10_b_air                     22646 non-null  float64\n",
      " 56  rougher.state.floatbank10_b_level                   22647 non-null  float64\n",
      " 57  rougher.state.floatbank10_c_air                     22646 non-null  float64\n",
      " 58  rougher.state.floatbank10_c_level                   22654 non-null  float64\n",
      " 59  rougher.state.floatbank10_d_air                     22641 non-null  float64\n",
      " 60  rougher.state.floatbank10_d_level                   22649 non-null  float64\n",
      " 61  rougher.state.floatbank10_e_air                     22096 non-null  float64\n",
      " 62  rougher.state.floatbank10_e_level                   22649 non-null  float64\n",
      " 63  rougher.state.floatbank10_f_air                     22641 non-null  float64\n",
      " 64  rougher.state.floatbank10_f_level                   22642 non-null  float64\n",
      " 65  secondary_cleaner.output.tail_ag                    22616 non-null  float64\n",
      " 66  secondary_cleaner.output.tail_pb                    22600 non-null  float64\n",
      " 67  secondary_cleaner.output.tail_sol                   20501 non-null  float64\n",
      " 68  secondary_cleaner.output.tail_au                    22618 non-null  float64\n",
      " 69  secondary_cleaner.state.floatbank2_a_air            22333 non-null  float64\n",
      " 70  secondary_cleaner.state.floatbank2_a_level          22591 non-null  float64\n",
      " 71  secondary_cleaner.state.floatbank2_b_air            22538 non-null  float64\n",
      " 72  secondary_cleaner.state.floatbank2_b_level          22588 non-null  float64\n",
      " 73  secondary_cleaner.state.floatbank3_a_air            22585 non-null  float64\n",
      " 74  secondary_cleaner.state.floatbank3_a_level          22587 non-null  float64\n",
      " 75  secondary_cleaner.state.floatbank3_b_air            22592 non-null  float64\n",
      " 76  secondary_cleaner.state.floatbank3_b_level          22590 non-null  float64\n",
      " 77  secondary_cleaner.state.floatbank4_a_air            22571 non-null  float64\n",
      " 78  secondary_cleaner.state.floatbank4_a_level          22587 non-null  float64\n",
      " 79  secondary_cleaner.state.floatbank4_b_air            22608 non-null  float64\n",
      " 80  secondary_cleaner.state.floatbank4_b_level          22607 non-null  float64\n",
      " 81  secondary_cleaner.state.floatbank5_a_air            22615 non-null  float64\n",
      " 82  secondary_cleaner.state.floatbank5_a_level          22615 non-null  float64\n",
      " 83  secondary_cleaner.state.floatbank5_b_air            22615 non-null  float64\n",
      " 84  secondary_cleaner.state.floatbank5_b_level          22616 non-null  float64\n",
      " 85  secondary_cleaner.state.floatbank6_a_air            22597 non-null  float64\n",
      " 86  secondary_cleaner.state.floatbank6_a_level          22615 non-null  float64\n",
      "dtypes: float64(86), object(1)\n",
      "memory usage: 15.1+ MB\n",
      "None\n",
      "       final.output.concentrate_ag  final.output.concentrate_pb  \\\n",
      "count                 22627.000000                 22629.000000   \n",
      "mean                      4.781559                     9.095308   \n",
      "std                       2.030128                     3.230797   \n",
      "min                       0.000000                     0.000000   \n",
      "25%                       4.018525                     8.750171   \n",
      "50%                       4.953729                     9.914519   \n",
      "75%                       5.862593                    10.929839   \n",
      "max                      16.001945                    17.031899   \n",
      "\n",
      "       final.output.concentrate_sol  final.output.concentrate_au  \\\n",
      "count                  22331.000000                 22630.000000   \n",
      "mean                       8.640317                    40.001172   \n",
      "std                        3.785035                    13.398062   \n",
      "min                        0.000000                     0.000000   \n",
      "25%                        7.116799                    42.383721   \n",
      "50%                        8.908792                    44.653436   \n",
      "75%                       10.705824                    46.111999   \n",
      "max                       19.615720                    53.611374   \n",
      "\n",
      "       final.output.recovery  final.output.tail_ag  final.output.tail_pb  \\\n",
      "count           20753.000000          22633.000000          22516.000000   \n",
      "mean               67.447488              8.923690              2.488252   \n",
      "std                11.616034              3.517917              1.189407   \n",
      "min                 0.000000              0.000000              0.000000   \n",
      "25%                63.282393              7.684016              1.805376   \n",
      "50%                68.322258              9.484369              2.653001   \n",
      "75%                72.950836             11.084557              3.287790   \n",
      "max               100.000000             19.552149              6.086532   \n",
      "\n",
      "       final.output.tail_sol  final.output.tail_au  \\\n",
      "count           22445.000000          22635.000000   \n",
      "mean                9.523632              2.827459   \n",
      "std                 4.079739              1.262834   \n",
      "min                 0.000000              0.000000   \n",
      "25%                 8.143576              2.303108   \n",
      "50%                10.212998              2.913794   \n",
      "75%                11.860824              3.555077   \n",
      "max                22.861749              9.789625   \n",
      "\n",
      "       primary_cleaner.input.sulfate  ...  \\\n",
      "count                   21107.000000  ...   \n",
      "mean                      140.277672  ...   \n",
      "std                        49.919004  ...   \n",
      "min                         0.000003  ...   \n",
      "25%                       110.177081  ...   \n",
      "50%                       141.330501  ...   \n",
      "75%                       174.049914  ...   \n",
      "max                       274.409626  ...   \n",
      "\n",
      "       secondary_cleaner.state.floatbank4_a_air  \\\n",
      "count                              22571.000000   \n",
      "mean                                  18.205125   \n",
      "std                                    6.560700   \n",
      "min                                    0.000000   \n",
      "25%                                   14.095940   \n",
      "50%                                   18.007326   \n",
      "75%                                   22.998194   \n",
      "max                                   60.000000   \n",
      "\n",
      "       secondary_cleaner.state.floatbank4_a_level  \\\n",
      "count                                22587.000000   \n",
      "mean                                  -499.878977   \n",
      "std                                     80.273964   \n",
      "min                                   -799.920713   \n",
      "25%                                   -500.896232   \n",
      "50%                                   -499.917108   \n",
      "75%                                   -498.361545   \n",
      "max                                   -127.692333   \n",
      "\n",
      "       secondary_cleaner.state.floatbank4_b_air  \\\n",
      "count                              22608.000000   \n",
      "mean                                  14.356474   \n",
      "std                                    5.655791   \n",
      "min                                    0.000000   \n",
      "25%                                   10.882675   \n",
      "50%                                   14.947646   \n",
      "75%                                   17.977502   \n",
      "max                                   31.269706   \n",
      "\n",
      "       secondary_cleaner.state.floatbank4_b_level  \\\n",
      "count                                22607.000000   \n",
      "mean                                  -476.532613   \n",
      "std                                     93.822791   \n",
      "min                                   -800.836914   \n",
      "25%                                   -500.309169   \n",
      "50%                                   -499.612292   \n",
      "75%                                   -400.224147   \n",
      "max                                     -6.506986   \n",
      "\n",
      "       secondary_cleaner.state.floatbank5_a_air  \\\n",
      "count                              22615.000000   \n",
      "mean                                  14.883276   \n",
      "std                                    6.372811   \n",
      "min                                   -0.423260   \n",
      "25%                                   10.941299   \n",
      "50%                                   14.859117   \n",
      "75%                                   18.014914   \n",
      "max                                   63.116298   \n",
      "\n",
      "       secondary_cleaner.state.floatbank5_a_level  \\\n",
      "count                                22615.000000   \n",
      "mean                                  -503.323288   \n",
      "std                                     72.925589   \n",
      "min                                   -799.741097   \n",
      "25%                                   -500.628697   \n",
      "50%                                   -499.865158   \n",
      "75%                                   -498.489381   \n",
      "max                                   -244.483566   \n",
      "\n",
      "       secondary_cleaner.state.floatbank5_b_air  \\\n",
      "count                              22615.000000   \n",
      "mean                                  11.626743   \n",
      "std                                    5.757449   \n",
      "min                                    0.427084   \n",
      "25%                                    8.037533   \n",
      "50%                                   10.989756   \n",
      "75%                                   14.001193   \n",
      "max                                   39.846228   \n",
      "\n",
      "       secondary_cleaner.state.floatbank5_b_level  \\\n",
      "count                                22616.000000   \n",
      "mean                                  -500.521502   \n",
      "std                                     78.956292   \n",
      "min                                   -800.258209   \n",
      "25%                                   -500.167897   \n",
      "50%                                   -499.951980   \n",
      "75%                                   -499.492354   \n",
      "max                                   -120.190931   \n",
      "\n",
      "       secondary_cleaner.state.floatbank6_a_air  \\\n",
      "count                              22597.000000   \n",
      "mean                                  17.976810   \n",
      "std                                    6.636203   \n",
      "min                                   -0.079426   \n",
      "25%                                   13.968418   \n",
      "50%                                   18.004215   \n",
      "75%                                   23.009704   \n",
      "max                                   54.876806   \n",
      "\n",
      "       secondary_cleaner.state.floatbank6_a_level  \n",
      "count                                22615.000000  \n",
      "mean                                  -519.361465  \n",
      "std                                     75.477151  \n",
      "min                                   -810.473526  \n",
      "25%                                   -500.981671  \n",
      "50%                                   -500.095463  \n",
      "75%                                   -499.526388  \n",
      "max                                    -29.093593  \n",
      "\n",
      "[8 rows x 86 columns]\n"
     ]
    },
    {
     "data": {
      "text/html": [
       "<div>\n",
       "<style scoped>\n",
       "    .dataframe tbody tr th:only-of-type {\n",
       "        vertical-align: middle;\n",
       "    }\n",
       "\n",
       "    .dataframe tbody tr th {\n",
       "        vertical-align: top;\n",
       "    }\n",
       "\n",
       "    .dataframe thead th {\n",
       "        text-align: right;\n",
       "    }\n",
       "</style>\n",
       "<table border=\"1\" class=\"dataframe\">\n",
       "  <thead>\n",
       "    <tr style=\"text-align: right;\">\n",
       "      <th></th>\n",
       "      <th>date</th>\n",
       "      <th>final.output.concentrate_ag</th>\n",
       "      <th>final.output.concentrate_pb</th>\n",
       "      <th>final.output.concentrate_sol</th>\n",
       "      <th>final.output.concentrate_au</th>\n",
       "      <th>final.output.recovery</th>\n",
       "      <th>final.output.tail_ag</th>\n",
       "      <th>final.output.tail_pb</th>\n",
       "      <th>final.output.tail_sol</th>\n",
       "      <th>final.output.tail_au</th>\n",
       "      <th>...</th>\n",
       "      <th>secondary_cleaner.state.floatbank4_a_air</th>\n",
       "      <th>secondary_cleaner.state.floatbank4_a_level</th>\n",
       "      <th>secondary_cleaner.state.floatbank4_b_air</th>\n",
       "      <th>secondary_cleaner.state.floatbank4_b_level</th>\n",
       "      <th>secondary_cleaner.state.floatbank5_a_air</th>\n",
       "      <th>secondary_cleaner.state.floatbank5_a_level</th>\n",
       "      <th>secondary_cleaner.state.floatbank5_b_air</th>\n",
       "      <th>secondary_cleaner.state.floatbank5_b_level</th>\n",
       "      <th>secondary_cleaner.state.floatbank6_a_air</th>\n",
       "      <th>secondary_cleaner.state.floatbank6_a_level</th>\n",
       "    </tr>\n",
       "  </thead>\n",
       "  <tbody>\n",
       "    <tr>\n",
       "      <th>0</th>\n",
       "      <td>2016-01-15 00:00:00</td>\n",
       "      <td>6.055403</td>\n",
       "      <td>9.889648</td>\n",
       "      <td>5.507324</td>\n",
       "      <td>42.192020</td>\n",
       "      <td>70.541216</td>\n",
       "      <td>10.411962</td>\n",
       "      <td>0.895447</td>\n",
       "      <td>16.904297</td>\n",
       "      <td>2.143149</td>\n",
       "      <td>...</td>\n",
       "      <td>14.016835</td>\n",
       "      <td>-502.488007</td>\n",
       "      <td>12.099931</td>\n",
       "      <td>-504.715942</td>\n",
       "      <td>9.925633</td>\n",
       "      <td>-498.310211</td>\n",
       "      <td>8.079666</td>\n",
       "      <td>-500.470978</td>\n",
       "      <td>14.151341</td>\n",
       "      <td>-605.841980</td>\n",
       "    </tr>\n",
       "    <tr>\n",
       "      <th>1</th>\n",
       "      <td>2016-01-15 01:00:00</td>\n",
       "      <td>6.029369</td>\n",
       "      <td>9.968944</td>\n",
       "      <td>5.257781</td>\n",
       "      <td>42.701629</td>\n",
       "      <td>69.266198</td>\n",
       "      <td>10.462676</td>\n",
       "      <td>0.927452</td>\n",
       "      <td>16.634514</td>\n",
       "      <td>2.224930</td>\n",
       "      <td>...</td>\n",
       "      <td>13.992281</td>\n",
       "      <td>-505.503262</td>\n",
       "      <td>11.950531</td>\n",
       "      <td>-501.331529</td>\n",
       "      <td>10.039245</td>\n",
       "      <td>-500.169983</td>\n",
       "      <td>7.984757</td>\n",
       "      <td>-500.582168</td>\n",
       "      <td>13.998353</td>\n",
       "      <td>-599.787184</td>\n",
       "    </tr>\n",
       "    <tr>\n",
       "      <th>2</th>\n",
       "      <td>2016-01-15 02:00:00</td>\n",
       "      <td>6.055926</td>\n",
       "      <td>10.213995</td>\n",
       "      <td>5.383759</td>\n",
       "      <td>42.657501</td>\n",
       "      <td>68.116445</td>\n",
       "      <td>10.507046</td>\n",
       "      <td>0.953716</td>\n",
       "      <td>16.208849</td>\n",
       "      <td>2.257889</td>\n",
       "      <td>...</td>\n",
       "      <td>14.015015</td>\n",
       "      <td>-502.520901</td>\n",
       "      <td>11.912783</td>\n",
       "      <td>-501.133383</td>\n",
       "      <td>10.070913</td>\n",
       "      <td>-500.129135</td>\n",
       "      <td>8.013877</td>\n",
       "      <td>-500.517572</td>\n",
       "      <td>14.028663</td>\n",
       "      <td>-601.427363</td>\n",
       "    </tr>\n",
       "    <tr>\n",
       "      <th>3</th>\n",
       "      <td>2016-01-15 03:00:00</td>\n",
       "      <td>6.047977</td>\n",
       "      <td>9.977019</td>\n",
       "      <td>4.858634</td>\n",
       "      <td>42.689819</td>\n",
       "      <td>68.347543</td>\n",
       "      <td>10.422762</td>\n",
       "      <td>0.883763</td>\n",
       "      <td>16.532835</td>\n",
       "      <td>2.146849</td>\n",
       "      <td>...</td>\n",
       "      <td>14.036510</td>\n",
       "      <td>-500.857308</td>\n",
       "      <td>11.999550</td>\n",
       "      <td>-501.193686</td>\n",
       "      <td>9.970366</td>\n",
       "      <td>-499.201640</td>\n",
       "      <td>7.977324</td>\n",
       "      <td>-500.255908</td>\n",
       "      <td>14.005551</td>\n",
       "      <td>-599.996129</td>\n",
       "    </tr>\n",
       "    <tr>\n",
       "      <th>4</th>\n",
       "      <td>2016-01-15 04:00:00</td>\n",
       "      <td>6.148599</td>\n",
       "      <td>10.142511</td>\n",
       "      <td>4.939416</td>\n",
       "      <td>42.774141</td>\n",
       "      <td>66.927016</td>\n",
       "      <td>10.360302</td>\n",
       "      <td>0.792826</td>\n",
       "      <td>16.525686</td>\n",
       "      <td>2.055292</td>\n",
       "      <td>...</td>\n",
       "      <td>14.027298</td>\n",
       "      <td>-499.838632</td>\n",
       "      <td>11.953070</td>\n",
       "      <td>-501.053894</td>\n",
       "      <td>9.925709</td>\n",
       "      <td>-501.686727</td>\n",
       "      <td>7.894242</td>\n",
       "      <td>-500.356035</td>\n",
       "      <td>13.996647</td>\n",
       "      <td>-601.496691</td>\n",
       "    </tr>\n",
       "  </tbody>\n",
       "</table>\n",
       "<p>5 rows × 87 columns</p>\n",
       "</div>"
      ],
      "text/plain": [
       "                  date  final.output.concentrate_ag  \\\n",
       "0  2016-01-15 00:00:00                     6.055403   \n",
       "1  2016-01-15 01:00:00                     6.029369   \n",
       "2  2016-01-15 02:00:00                     6.055926   \n",
       "3  2016-01-15 03:00:00                     6.047977   \n",
       "4  2016-01-15 04:00:00                     6.148599   \n",
       "\n",
       "   final.output.concentrate_pb  final.output.concentrate_sol  \\\n",
       "0                     9.889648                      5.507324   \n",
       "1                     9.968944                      5.257781   \n",
       "2                    10.213995                      5.383759   \n",
       "3                     9.977019                      4.858634   \n",
       "4                    10.142511                      4.939416   \n",
       "\n",
       "   final.output.concentrate_au  final.output.recovery  final.output.tail_ag  \\\n",
       "0                    42.192020              70.541216             10.411962   \n",
       "1                    42.701629              69.266198             10.462676   \n",
       "2                    42.657501              68.116445             10.507046   \n",
       "3                    42.689819              68.347543             10.422762   \n",
       "4                    42.774141              66.927016             10.360302   \n",
       "\n",
       "   final.output.tail_pb  final.output.tail_sol  final.output.tail_au  ...  \\\n",
       "0              0.895447              16.904297              2.143149  ...   \n",
       "1              0.927452              16.634514              2.224930  ...   \n",
       "2              0.953716              16.208849              2.257889  ...   \n",
       "3              0.883763              16.532835              2.146849  ...   \n",
       "4              0.792826              16.525686              2.055292  ...   \n",
       "\n",
       "   secondary_cleaner.state.floatbank4_a_air  \\\n",
       "0                                 14.016835   \n",
       "1                                 13.992281   \n",
       "2                                 14.015015   \n",
       "3                                 14.036510   \n",
       "4                                 14.027298   \n",
       "\n",
       "   secondary_cleaner.state.floatbank4_a_level  \\\n",
       "0                                 -502.488007   \n",
       "1                                 -505.503262   \n",
       "2                                 -502.520901   \n",
       "3                                 -500.857308   \n",
       "4                                 -499.838632   \n",
       "\n",
       "   secondary_cleaner.state.floatbank4_b_air  \\\n",
       "0                                 12.099931   \n",
       "1                                 11.950531   \n",
       "2                                 11.912783   \n",
       "3                                 11.999550   \n",
       "4                                 11.953070   \n",
       "\n",
       "   secondary_cleaner.state.floatbank4_b_level  \\\n",
       "0                                 -504.715942   \n",
       "1                                 -501.331529   \n",
       "2                                 -501.133383   \n",
       "3                                 -501.193686   \n",
       "4                                 -501.053894   \n",
       "\n",
       "   secondary_cleaner.state.floatbank5_a_air  \\\n",
       "0                                  9.925633   \n",
       "1                                 10.039245   \n",
       "2                                 10.070913   \n",
       "3                                  9.970366   \n",
       "4                                  9.925709   \n",
       "\n",
       "   secondary_cleaner.state.floatbank5_a_level  \\\n",
       "0                                 -498.310211   \n",
       "1                                 -500.169983   \n",
       "2                                 -500.129135   \n",
       "3                                 -499.201640   \n",
       "4                                 -501.686727   \n",
       "\n",
       "   secondary_cleaner.state.floatbank5_b_air  \\\n",
       "0                                  8.079666   \n",
       "1                                  7.984757   \n",
       "2                                  8.013877   \n",
       "3                                  7.977324   \n",
       "4                                  7.894242   \n",
       "\n",
       "   secondary_cleaner.state.floatbank5_b_level  \\\n",
       "0                                 -500.470978   \n",
       "1                                 -500.582168   \n",
       "2                                 -500.517572   \n",
       "3                                 -500.255908   \n",
       "4                                 -500.356035   \n",
       "\n",
       "   secondary_cleaner.state.floatbank6_a_air  \\\n",
       "0                                 14.151341   \n",
       "1                                 13.998353   \n",
       "2                                 14.028663   \n",
       "3                                 14.005551   \n",
       "4                                 13.996647   \n",
       "\n",
       "   secondary_cleaner.state.floatbank6_a_level  \n",
       "0                                 -605.841980  \n",
       "1                                 -599.787184  \n",
       "2                                 -601.427363  \n",
       "3                                 -599.996129  \n",
       "4                                 -601.496691  \n",
       "\n",
       "[5 rows x 87 columns]"
      ]
     },
     "execution_count": 57,
     "metadata": {},
     "output_type": "execute_result"
    }
   ],
   "source": [
    "print(full.info())\n",
    "print(full.describe())\n",
    "full.head()"
   ]
  },
  {
   "cell_type": "markdown",
   "id": "51220992",
   "metadata": {},
   "source": [
    "En los DataFrame hay valores ausentes y podemos observar que en el DataFramen full y train, hay mas columnas que en test"
   ]
  },
  {
   "cell_type": "markdown",
   "id": "752dd544",
   "metadata": {},
   "source": [
    "### cálculo de la recuperación"
   ]
  },
  {
   "cell_type": "code",
   "execution_count": 58,
   "id": "ed707412",
   "metadata": {},
   "outputs": [],
   "source": [
    "#variables para el calculo\n",
    "Cr = train[\"rougher.output.concentrate_au\"]\n",
    "Fr = train[\"rougher.input.feed_au\"]\n",
    "Tr = train[\"rougher.output.tail_au\"]\n",
    "recovery_rougher = train[\"rougher.output.recovery\"]\n",
    "# Calculo de recuperación \n",
    "calculated_recovery_rougher = 100 * (Cr * (Fr - Tr)) / ( Fr * (Cr - Tr))"
   ]
  },
  {
   "cell_type": "markdown",
   "id": "950c0f15",
   "metadata": {},
   "source": [
    "Los datos para el calculo de recuperación los tomamos del diagrama en la introducción"
   ]
  },
  {
   "cell_type": "code",
   "execution_count": 59,
   "id": "0ee37943",
   "metadata": {
    "scrolled": true
   },
   "outputs": [
    {
     "name": "stdout",
     "output_type": "stream",
     "text": [
      "Calculo de EAM: 9.087511289144426e-15\n"
     ]
    }
   ],
   "source": [
    "#EAM\n",
    "def mean_absolute_error(y, y_pred):\n",
    "\n",
    "    diff = y - y_pred\n",
    "\n",
    "    return np.nansum(abs(diff)) / len(diff)\n",
    "\n",
    "print(\"Calculo de EAM:\", mean_absolute_error(recovery_rougher, calculated_recovery_rougher))"
   ]
  },
  {
   "cell_type": "markdown",
   "id": "cccb310f",
   "metadata": {},
   "source": [
    "El AEM del calculo de recuperacion es muy cercano a 0, esto quiere decir que el calculo de recuperación es correcto "
   ]
  },
  {
   "cell_type": "markdown",
   "id": "a21bbade",
   "metadata": {},
   "source": [
    "### características no disponibles en el conjunto de prueba"
   ]
  },
  {
   "cell_type": "code",
   "execution_count": 60,
   "id": "fe2d60c4",
   "metadata": {
    "scrolled": true
   },
   "outputs": [],
   "source": [
    "# Columnas que no estan en el conjunto de prueba y si en el conjunto de entrenamiento\n",
    "column_not_test = set(full.columns) -set(test.columns)"
   ]
  },
  {
   "cell_type": "markdown",
   "id": "1df1d401",
   "metadata": {},
   "source": [
    "+ Las columnas que no se encuentran el en conjunto de prueba son las columnas de:\n",
    " + características finales\n",
    " + purificación primaria\n",
    " + flotación\n",
    " + purificación secundaria\n",
    " + Columnas objetivo"
   ]
  },
  {
   "cell_type": "markdown",
   "id": "9f077b10",
   "metadata": {},
   "source": [
    "### Realiza el preprocesamiento de datos."
   ]
  },
  {
   "cell_type": "markdown",
   "id": "3e609b8f",
   "metadata": {},
   "source": [
    "#### Datos ausentes"
   ]
  },
  {
   "cell_type": "code",
   "execution_count": 61,
   "id": "4f3a3908",
   "metadata": {},
   "outputs": [
    {
     "data": {
      "image/png": "[encoded data removed]",
      "text/plain": [
       "<Figure size 432x288 with 1 Axes>"
      ]
     },
     "metadata": {
      "needs_background": "light"
     },
     "output_type": "display_data"
    }
   ],
   "source": [
    "sns.heatmap(train.isnull(), cbar=False)\n",
    "plt.show()"
   ]
  },
  {
   "cell_type": "markdown",
   "id": "eef1b462",
   "metadata": {},
   "source": [
    "Los valores ausentes del DataFrame train, están distribuidos en todas la mayoría de las columnas"
   ]
  },
  {
   "cell_type": "code",
   "execution_count": 62,
   "id": "c5ab8007",
   "metadata": {},
   "outputs": [
    {
     "data": {
      "image/png": "[encoded data removed]",
      "text/plain": [
       "<Figure size 432x288 with 1 Axes>"
      ]
     },
     "metadata": {
      "needs_background": "light"
     },
     "output_type": "display_data"
    }
   ],
   "source": [
    "sns.heatmap(test.isnull(), cbar=False)\n",
    "plt.show()"
   ]
  },
  {
   "cell_type": "markdown",
   "id": "bc857858",
   "metadata": {},
   "source": [
    "Los valores ausentes del DataFrame test, son menores que test y solo se distribuyen en 5 columnas "
   ]
  },
  {
   "cell_type": "code",
   "execution_count": 63,
   "id": "92e09fc9",
   "metadata": {},
   "outputs": [
    {
     "data": {
      "image/png": "[encoded data removed]",
      "text/plain": [
       "<Figure size 432x288 with 1 Axes>"
      ]
     },
     "metadata": {
      "needs_background": "light"
     },
     "output_type": "display_data"
    }
   ],
   "source": [
    "sns.heatmap(full.isnull(), cbar=False)\n",
    "plt.show()"
   ]
  },
  {
   "cell_type": "markdown",
   "id": "9f89b50c",
   "metadata": {},
   "source": [
    "Los valores ausentes del DataFrame full, están distribuidos en todas la mayoría de las columnas"
   ]
  },
  {
   "cell_type": "markdown",
   "id": "79c1612f",
   "metadata": {},
   "source": [
    "Podemos ver que los valores ausentes representan menos del 16% de los datos, dado la gran cantidad de datos, estos no los podemos eliminar, ya que la empresa Zyfra, los parametros cercanos en el tiempo son similares, asi que rellenaremos los datos con los valores a la ultima observacion valida o el valor correspondiente en la fila anterior. Ya que cada valor corresponde con un periodo de tiempo "
   ]
  },
  {
   "cell_type": "code",
   "execution_count": 64,
   "id": "43a8a0f5",
   "metadata": {},
   "outputs": [
    {
     "data": {
      "text/html": [
       "<div>\n",
       "<style scoped>\n",
       "    .dataframe tbody tr th:only-of-type {\n",
       "        vertical-align: middle;\n",
       "    }\n",
       "\n",
       "    .dataframe tbody tr th {\n",
       "        vertical-align: top;\n",
       "    }\n",
       "\n",
       "    .dataframe thead th {\n",
       "        text-align: right;\n",
       "    }\n",
       "</style>\n",
       "<table border=\"1\" class=\"dataframe\">\n",
       "  <thead>\n",
       "    <tr style=\"text-align: right;\">\n",
       "      <th></th>\n",
       "      <th>DataFrame</th>\n",
       "      <th>Valores ausentes</th>\n",
       "    </tr>\n",
       "  </thead>\n",
       "  <tbody>\n",
       "    <tr>\n",
       "      <th>0</th>\n",
       "      <td>Full</td>\n",
       "      <td>0</td>\n",
       "    </tr>\n",
       "    <tr>\n",
       "      <th>1</th>\n",
       "      <td>Train</td>\n",
       "      <td>0</td>\n",
       "    </tr>\n",
       "    <tr>\n",
       "      <th>2</th>\n",
       "      <td>Test</td>\n",
       "      <td>0</td>\n",
       "    </tr>\n",
       "  </tbody>\n",
       "</table>\n",
       "</div>"
      ],
      "text/plain": [
       "  DataFrame  Valores ausentes\n",
       "0      Full                 0\n",
       "1     Train                 0\n",
       "2      Test                 0"
      ]
     },
     "execution_count": 64,
     "metadata": {},
     "output_type": "execute_result"
    }
   ],
   "source": [
    "train = train.fillna(method='ffill')\n",
    "full = full.fillna(method='ffill')\n",
    "test = test.fillna(method='ffill')\n",
    "\n",
    "valores_ausentes = pd.DataFrame({\n",
    "    \"DataFrame\": [\"Full\", \"Train\", \"Test\"],\n",
    "    \"Valores ausentes\": [len(full[full.isna().any(1)]), len(train[train.isna().any(1)]), len(test[test.isna().any(1)])]\n",
    "})\n",
    "\n",
    "valores_ausentes"
   ]
  },
  {
   "cell_type": "code",
   "execution_count": 65,
   "id": "0e67a8d1",
   "metadata": {},
   "outputs": [],
   "source": [
    "column_not_train = []\n",
    "for i in column_not_test:\n",
    "    if i != 'rougher.output.recovery':\n",
    "        if i != 'final.output.recovery':\n",
    "            column_not_train.append(i)"
   ]
  },
  {
   "cell_type": "code",
   "execution_count": 66,
   "id": "03ba79e1",
   "metadata": {},
   "outputs": [
    {
     "data": {
      "text/plain": [
       "(16860, 55)"
      ]
     },
     "execution_count": 66,
     "metadata": {},
     "output_type": "execute_result"
    }
   ],
   "source": [
    "train_1 = train.drop(column_not_train, axis=1)\n",
    "train_1.shape"
   ]
  },
  {
   "cell_type": "code",
   "execution_count": 67,
   "id": "dbc2f130",
   "metadata": {},
   "outputs": [
    {
     "data": {
      "text/plain": [
       "(5856, 55)"
      ]
     },
     "execution_count": 67,
     "metadata": {},
     "output_type": "execute_result"
    }
   ],
   "source": [
    "#Unir las tablas de full y test, para tener el objetivo \n",
    "full_data_target = full[['date', 'rougher.output.recovery', 'final.output.recovery']]\n",
    "#Agragar las columnas con merge \n",
    "test_1 = test.merge(full_data_target, on = 'date', how = 'left')\n",
    "test_1.shape"
   ]
  },
  {
   "cell_type": "code",
   "execution_count": 68,
   "id": "b1790d33",
   "metadata": {},
   "outputs": [],
   "source": [
    "#Eliminamos valores que no aportan información para la predicción \n",
    "train.drop('date', axis = 1, inplace=True)\n",
    "test.drop('date', axis = 1, inplace=True)\n",
    "full.drop('date', axis = 1, inplace=True)\n",
    "train_1.drop('date', axis = 1, inplace=True)\n",
    "test_1.drop('date', axis = 1, inplace=True)"
   ]
  },
  {
   "cell_type": "markdown",
   "id": "562bd5a3",
   "metadata": {},
   "source": [
    "## Analiza los datos"
   ]
  },
  {
   "cell_type": "markdown",
   "id": "96624f85",
   "metadata": {},
   "source": [
    "### Cambio de concentración de metales en función de la etapa de purificación. (Au, Ag, Pb)"
   ]
  },
  {
   "cell_type": "markdown",
   "id": "b16ca14b",
   "metadata": {},
   "source": [
    "#### Cambio de Au (Oro)"
   ]
  },
  {
   "cell_type": "code",
   "execution_count": 69,
   "id": "f75b62cc",
   "metadata": {},
   "outputs": [
    {
     "data": {
      "image/png": "[encoded data removed]",
      "text/plain": [
       "<Figure size 720x432 with 1 Axes>"
      ]
     },
     "metadata": {
      "needs_background": "light"
     },
     "output_type": "display_data"
    }
   ],
   "source": [
    "clean_prim_au = train['primary_cleaner.output.concentrate_au']\n",
    "clean_final_au = train['final.output.concentrate_au']\n",
    "\n",
    "plt.figure(figsize=(10,6))\n",
    "plt.hist(clean_prim_au, bins=50, alpha=0.5, color=\"blue\", label=\"purificacón primaria\", cumulative=True, density=True)\n",
    "plt.hist(clean_final_au, bins=50, alpha=0.5, color=\"green\", label=\"piurificación final\", cumulative=True, density=True)\n",
    "plt.legend(loc=\"upper right\")\n",
    "plt.title(\"cambio de la concentración de Au (oro)\")\n",
    "plt.xlabel(\"Particulas\")\n",
    "plt.show()"
   ]
  },
  {
   "cell_type": "markdown",
   "id": "5b4b5b57",
   "metadata": {},
   "source": [
    "Se puede observar que el cambio en Au (Oro) aumenta el numero de partículas después del proceso de primario de purificación"
   ]
  },
  {
   "cell_type": "markdown",
   "id": "009b36a3",
   "metadata": {},
   "source": [
    "#### Cambio de Ag (Plata)"
   ]
  },
  {
   "cell_type": "code",
   "execution_count": 70,
   "id": "ce0d6e34",
   "metadata": {
    "scrolled": false
   },
   "outputs": [
    {
     "data": {
      "image/png": "[encoded data removed]",
      "text/plain": [
       "<Figure size 720x432 with 1 Axes>"
      ]
     },
     "metadata": {
      "needs_background": "light"
     },
     "output_type": "display_data"
    }
   ],
   "source": [
    "clean_prim_ag = train['primary_cleaner.output.concentrate_ag']\n",
    "clean_final_ag = train['final.output.concentrate_ag']\n",
    "\n",
    "plt.figure(figsize=(10,6))\n",
    "plt.hist(clean_prim_ag, bins=50, alpha=0.5, color=\"blue\", label=\"purificacón primaria\", cumulative=True, density=True)\n",
    "plt.hist(clean_final_ag, bins=50, alpha=0.5, color=\"green\", label=\"piurificación final\", cumulative=True, density=True)\n",
    "plt.legend(loc=\"upper right\")\n",
    "plt.title(\"cambio de la concentración de Ag (oro)\")\n",
    "plt.xlabel(\"Particulas\")\n",
    "plt.show()"
   ]
  },
  {
   "cell_type": "markdown",
   "id": "cc1b6803",
   "metadata": {},
   "source": [
    "Se puede observar que el cambio en Ag (Plata) disminuye el numero de partículas después del proceso de primario de purificación"
   ]
  },
  {
   "cell_type": "markdown",
   "id": "6998addd",
   "metadata": {},
   "source": [
    "#### Cambio de Pb (Plomo)"
   ]
  },
  {
   "cell_type": "code",
   "execution_count": 71,
   "id": "c13c35d8",
   "metadata": {},
   "outputs": [
    {
     "data": {
      "image/png": "[encoded data removed]",
      "text/plain": [
       "<Figure size 720x432 with 1 Axes>"
      ]
     },
     "metadata": {
      "needs_background": "light"
     },
     "output_type": "display_data"
    }
   ],
   "source": [
    "clean_prim_pb = train['primary_cleaner.output.concentrate_pb']\n",
    "clean_final_pb = train['final.output.concentrate_pb']\n",
    "\n",
    "plt.figure(figsize=(10,6))\n",
    "plt.hist(clean_prim_pb, bins=50, alpha=0.5, color=\"blue\", label=\"purificacón primaria\", cumulative=True, density=True)\n",
    "plt.hist(clean_final_pb, bins=50, alpha=0.5, color=\"green\", label=\"piurificación final\", cumulative=True, density=True)\n",
    "plt.legend(loc=\"upper right\")\n",
    "plt.title(\"cambio de la concentración de Pb (Plomo)\")\n",
    "plt.xlabel(\"Particulas\")\n",
    "plt.show()"
   ]
  },
  {
   "cell_type": "markdown",
   "id": "1cf6ba37",
   "metadata": {},
   "source": [
    "Se puede observar que el cambio en Pb (Plomo) se conservo el numero de partículas después del proceso de primario de purificación"
   ]
  },
  {
   "cell_type": "markdown",
   "id": "af7fc9c7",
   "metadata": {},
   "source": [
    "### Tamaño de las partículas de la alimentación"
   ]
  },
  {
   "cell_type": "code",
   "execution_count": 72,
   "id": "51033a93",
   "metadata": {},
   "outputs": [
    {
     "data": {
      "image/png": "[encoded data removed]",
      "text/plain": [
       "<Figure size 720x432 with 1 Axes>"
      ]
     },
     "metadata": {
      "needs_background": "light"
     },
     "output_type": "display_data"
    },
    {
     "data": {
      "image/png": "[encoded data removed]",
      "text/plain": [
       "<Figure size 720x432 with 1 Axes>"
      ]
     },
     "metadata": {
      "needs_background": "light"
     },
     "output_type": "display_data"
    }
   ],
   "source": [
    "feed_size = [\"primary_cleaner.input.feed_size\", \"rougher.input.feed_size\"]\n",
    "\n",
    "for f in feed_size:\n",
    "    _, bins = pd.qcut(train[f], q=100, retbins=True, duplicates=\"drop\")\n",
    "\n",
    "    plt.figure(figsize=(10,6))\n",
    "    plt.hist(train[f], bins=bins, alpha=0.25, label='train', color=\"blue\")\n",
    "    plt.hist(test[f], bins=bins, alpha=0.25, label='test', color=\"green\")\n",
    "    plt.legend(loc='upper right')\n",
    "    plt.show()"
   ]
  },
  {
   "cell_type": "markdown",
   "id": "b18e3126",
   "metadata": {},
   "source": [
    "Se puede observar que la distribución de las partículas no varían significativamente en el conjunto de entrenamiento ni en el de prueba"
   ]
  },
  {
   "cell_type": "markdown",
   "id": "7ae70c05",
   "metadata": {},
   "source": [
    "### Concentraciones totales de todas las sustancias en las diferentes etapas"
   ]
  },
  {
   "cell_type": "markdown",
   "id": "634a5135",
   "metadata": {},
   "source": [
    "#### Materia prima"
   ]
  },
  {
   "cell_type": "code",
   "execution_count": 73,
   "id": "a9b284f0",
   "metadata": {
    "scrolled": true
   },
   "outputs": [
    {
     "data": {
      "image/png": "[encoded data removed]",
      "text/plain": [
       "<Figure size 720x360 with 1 Axes>"
      ]
     },
     "metadata": {
      "needs_background": "light"
     },
     "output_type": "display_data"
    },
    {
     "data": {
      "image/png": "[encoded data removed]",
      "text/plain": [
       "<Figure size 432x288 with 1 Axes>"
      ]
     },
     "metadata": {
      "needs_background": "light"
     },
     "output_type": "display_data"
    },
    {
     "data": {
      "image/png": "[encoded data removed]",
      "text/plain": [
       "<Figure size 432x288 with 1 Axes>"
      ]
     },
     "metadata": {
      "needs_background": "light"
     },
     "output_type": "display_data"
    },
    {
     "data": {
      "image/png": "[encoded data removed]",
      "text/plain": [
       "<Figure size 432x288 with 1 Axes>"
      ]
     },
     "metadata": {
      "needs_background": "light"
     },
     "output_type": "display_data"
    }
   ],
   "source": [
    "train.boxplot(column = ['rougher.input.feed_au', 'rougher.input.feed_ag', 'rougher.input.feed_pb'], figsize = (10, 5))\n",
    "train.hist('rougher.input.feed_au', bins = 30)\n",
    "train.hist('rougher.input.feed_ag', bins = 30)\n",
    "train.hist('rougher.input.feed_pb', bins = 30)\n",
    "plt.show()"
   ]
  },
  {
   "cell_type": "markdown",
   "id": "06dacd7b",
   "metadata": {},
   "source": [
    "#### Concentrado rougher"
   ]
  },
  {
   "cell_type": "code",
   "execution_count": 74,
   "id": "797fdf48",
   "metadata": {
    "scrolled": true
   },
   "outputs": [
    {
     "data": {
      "image/png": "[encoded data removed]",
      "text/plain": [
       "<Figure size 720x360 with 1 Axes>"
      ]
     },
     "metadata": {
      "needs_background": "light"
     },
     "output_type": "display_data"
    },
    {
     "data": {
      "image/png": "[encoded data removed]",
      "text/plain": [
       "<Figure size 432x288 with 1 Axes>"
      ]
     },
     "metadata": {
      "needs_background": "light"
     },
     "output_type": "display_data"
    },
    {
     "data": {
      "image/png": "[encoded data removed]",
      "text/plain": [
       "<Figure size 432x288 with 1 Axes>"
      ]
     },
     "metadata": {
      "needs_background": "light"
     },
     "output_type": "display_data"
    },
    {
     "data": {
      "image/png": "[encoded data removed]",
      "text/plain": [
       "<Figure size 432x288 with 1 Axes>"
      ]
     },
     "metadata": {
      "needs_background": "light"
     },
     "output_type": "display_data"
    }
   ],
   "source": [
    "train.boxplot(column = ['rougher.output.concentrate_au', 'rougher.output.concentrate_ag', 'rougher.output.concentrate_pb'], figsize = (10, 5))\n",
    "train.hist('rougher.output.concentrate_au', bins = 30)\n",
    "train.hist('rougher.output.concentrate_ag', bins = 30)\n",
    "train.hist('rougher.output.concentrate_pb', bins = 30)\n",
    "plt.show()"
   ]
  },
  {
   "cell_type": "markdown",
   "id": "3ab1bad1",
   "metadata": {},
   "source": [
    "#### Concentrado final"
   ]
  },
  {
   "cell_type": "code",
   "execution_count": 75,
   "id": "29eb2fb6",
   "metadata": {
    "scrolled": true
   },
   "outputs": [
    {
     "data": {
      "image/png": "[encoded data removed]",
      "text/plain": [
       "<Figure size 720x360 with 1 Axes>"
      ]
     },
     "metadata": {
      "needs_background": "light"
     },
     "output_type": "display_data"
    },
    {
     "data": {
      "image/png": "[encoded data removed]",
      "text/plain": [
       "<Figure size 432x288 with 1 Axes>"
      ]
     },
     "metadata": {
      "needs_background": "light"
     },
     "output_type": "display_data"
    },
    {
     "data": {
      "image/png": "[encoded data removed]",
      "text/plain": [
       "<Figure size 432x288 with 1 Axes>"
      ]
     },
     "metadata": {
      "needs_background": "light"
     },
     "output_type": "display_data"
    },
    {
     "data": {
      "image/png": "[encoded data removed]",
      "text/plain": [
       "<Figure size 432x288 with 1 Axes>"
      ]
     },
     "metadata": {
      "needs_background": "light"
     },
     "output_type": "display_data"
    }
   ],
   "source": [
    "train.boxplot(column = ['final.output.concentrate_au', 'final.output.concentrate_ag', 'final.output.concentrate_pb'], figsize = (10, 5))\n",
    "train.hist('final.output.concentrate_au', bins = 30)\n",
    "train.hist('final.output.concentrate_ag', bins = 30)\n",
    "train.hist('final.output.concentrate_pb', bins = 30)\n",
    "plt.show()"
   ]
  },
  {
   "cell_type": "markdown",
   "id": "acb130e9",
   "metadata": {},
   "source": [
    "Se puede observar que en las tres etapas de cada material hay valores atípicos muy cercanos a 0, no eliminaremos datos, ya que los tres data frame tienen valores similares "
   ]
  },
  {
   "cell_type": "markdown",
   "id": "e18d6b32",
   "metadata": {},
   "source": [
    "## Construye el modelo"
   ]
  },
  {
   "cell_type": "markdown",
   "id": "7c499bc5",
   "metadata": {},
   "source": [
    "### función para calcular el valor final de sMAPE"
   ]
  },
  {
   "cell_type": "code",
   "execution_count": 76,
   "id": "6c2828d1",
   "metadata": {},
   "outputs": [],
   "source": [
    "def smape(target_s, prediction_s):\n",
    "    numerador_deno = (2*np.abs(target_s - prediction_s))/(np.abs(target_s) + np.abs(prediction_s))\n",
    "    smape = numerador_deno.mean()\n",
    "    return smape\n",
    "\n",
    "def smape_final(target_s, prediction_s):\n",
    "    smape_rougher = smape(target_s[:,0], prediction_s[:,0])\n",
    "    smape_final = smape(target_s[:,1], prediction_s[:,1])\n",
    "    smape_out = (0.25 * smape_rougher) + (0.75 * smape_final)\n",
    "    return smape_out\n",
    "\n",
    "smape_score = make_scorer(smape_final)"
   ]
  },
  {
   "cell_type": "markdown",
   "id": "b734e86a",
   "metadata": {},
   "source": [
    "### Entrena diferentes modelos"
   ]
  },
  {
   "cell_type": "code",
   "execution_count": 77,
   "id": "7cecd406",
   "metadata": {},
   "outputs": [
    {
     "name": "stdout",
     "output_type": "stream",
     "text": [
      "(16860, 52) (16860, 2)\n",
      "(5856, 52) (5856, 2)\n"
     ]
    }
   ],
   "source": [
    "# Dividimos los datos en features y target\n",
    "features_train = train_1.drop(['rougher.output.recovery', 'final.output.recovery'], axis=1)\n",
    "target_train = train_1[['rougher.output.recovery', 'final.output.recovery']]\n",
    "features_test = test_1.drop(['rougher.output.recovery', 'final.output.recovery'], axis=1)\n",
    "target_test = test_1[['rougher.output.recovery', 'final.output.recovery']]\n",
    "print(features_train.shape, target_train.shape)\n",
    "print(features_test.shape, target_test.shape)"
   ]
  },
  {
   "cell_type": "code",
   "execution_count": 78,
   "id": "a283cb9a",
   "metadata": {},
   "outputs": [],
   "source": [
    "#scaler de caracteristicas \n",
    "scaler = StandardScaler()\n",
    "scaler.fit(features_train)\n",
    "features_train = scaler.transform(features_train)\n",
    "features_test = scaler.transform(features_test)\n",
    "target_train = target_train.values\n",
    "target_test = target_test.values"
   ]
  },
  {
   "cell_type": "markdown",
   "id": "9083c759",
   "metadata": {},
   "source": [
    "#### Linear Regression"
   ]
  },
  {
   "cell_type": "code",
   "execution_count": 79,
   "id": "9f7a7aed",
   "metadata": {},
   "outputs": [],
   "source": [
    "# Modelo de regression lineal\n",
    "model_lr = LinearRegression()\n",
    "fit_lr = model_lr.fit(features_train, target_train)\n",
    "prediction_lr = fit_lr.predict(features_test)\n",
    "\n",
    "#validacion cruzada\n",
    "score_lr = cross_val_score(fit_lr, features_train, target_train, cv=5, scoring=smape_score)"
   ]
  },
  {
   "cell_type": "markdown",
   "id": "2779ac71",
   "metadata": {},
   "source": [
    "#### Modelo Random Forest Regressor "
   ]
  },
  {
   "cell_type": "code",
   "execution_count": 80,
   "id": "c057deef",
   "metadata": {},
   "outputs": [],
   "source": [
    "params = {'min_samples_split': range(2, 6, 2)}\n",
    "rf_cv = GridSearchCV(RandomForestRegressor(random_state=12345), param_grid=params, scoring=smape_score, cv=3)\n",
    "rf_cv.fit(features_train, target_train)\n",
    "best_params = rf_cv.best_params_\n",
    "\n",
    "model_rfr = RandomForestRegressor(**best_params)\n",
    "fit_rfr = model_rfr.fit(features_train, target_train)\n",
    "prediction_rfr = fit_rfr.predict(features_test)\n",
    "\n",
    "#Validacion cruzada\n",
    "score_rfr = cross_val_score(model_rfr, features_train, target_train, cv=3, scoring=smape_score)"
   ]
  },
  {
   "cell_type": "markdown",
   "id": "9d38d943",
   "metadata": {},
   "source": [
    "#### Modelo Desicion Tree Regressor"
   ]
  },
  {
   "cell_type": "code",
   "execution_count": 81,
   "id": "eff30557",
   "metadata": {},
   "outputs": [
    {
     "name": "stderr",
     "output_type": "stream",
     "text": [
      "C:\\Users\\migue\\AppData\\Local\\Temp\\ipykernel_12700\\1365283437.py:2: RuntimeWarning: invalid value encountered in true_divide\n",
      "  numerador_deno = (2*np.abs(target_s - prediction_s))/(np.abs(target_s) + np.abs(prediction_s))\n",
      "C:\\Users\\migue\\AppData\\Local\\Temp\\ipykernel_12700\\1365283437.py:2: RuntimeWarning: invalid value encountered in true_divide\n",
      "  numerador_deno = (2*np.abs(target_s - prediction_s))/(np.abs(target_s) + np.abs(prediction_s))\n",
      "C:\\Users\\migue\\anaconda3\\lib\\site-packages\\sklearn\\model_selection\\_search.py:969: UserWarning: One or more of the test scores are non-finite: [0.1785567 0.1785567       nan       nan]\n",
      "  warnings.warn(\n"
     ]
    }
   ],
   "source": [
    "#Decision Tree Regressor \n",
    "params = {'min_samples_split': range(2, 6, 2), \"max_depth\": range(4, 8, 2)}\n",
    "dtr = GridSearchCV(DecisionTreeRegressor(random_state=12345), param_grid=params, scoring=smape_score, cv=3)\n",
    "dtr.fit(features_train, target_train)\n",
    "best_params = dtr.best_params_\n",
    "\n",
    "model_final = DecisionTreeRegressor(**best_params)\n",
    "fit_dtr = model_dtr.fit(features_train, target_train)\n",
    "prediction_dtr= fit_dtr.predict(features_test)\n",
    "\n",
    "#Validacion cruzada\n",
    "score_dtr = cross_val_score(model_dtr, features_train, target_train, cv=3, scoring=smape_score)"
   ]
  },
  {
   "cell_type": "markdown",
   "id": "5dc5137d",
   "metadata": {},
   "source": [
    "#### Tabla de resultados"
   ]
  },
  {
   "cell_type": "code",
   "execution_count": 82,
   "id": "26b66060",
   "metadata": {},
   "outputs": [
    {
     "data": {
      "text/html": [
       "<div>\n",
       "<style scoped>\n",
       "    .dataframe tbody tr th:only-of-type {\n",
       "        vertical-align: middle;\n",
       "    }\n",
       "\n",
       "    .dataframe tbody tr th {\n",
       "        vertical-align: top;\n",
       "    }\n",
       "\n",
       "    .dataframe thead th {\n",
       "        text-align: right;\n",
       "    }\n",
       "</style>\n",
       "<table border=\"1\" class=\"dataframe\">\n",
       "  <thead>\n",
       "    <tr style=\"text-align: right;\">\n",
       "      <th></th>\n",
       "      <th>Modelo</th>\n",
       "      <th>MAPE</th>\n",
       "      <th>sMAPE final</th>\n",
       "    </tr>\n",
       "  </thead>\n",
       "  <tbody>\n",
       "    <tr>\n",
       "      <th>0</th>\n",
       "      <td>Lineal Regression</td>\n",
       "      <td>0.169686</td>\n",
       "      <td>0.123118</td>\n",
       "    </tr>\n",
       "    <tr>\n",
       "      <th>1</th>\n",
       "      <td>Random Forest Regressor</td>\n",
       "      <td>0.180608</td>\n",
       "      <td>0.126273</td>\n",
       "    </tr>\n",
       "    <tr>\n",
       "      <th>2</th>\n",
       "      <td>Decision Tree Tegressor</td>\n",
       "      <td>0.178557</td>\n",
       "      <td>0.112851</td>\n",
       "    </tr>\n",
       "  </tbody>\n",
       "</table>\n",
       "</div>"
      ],
      "text/plain": [
       "                    Modelo      MAPE  sMAPE final\n",
       "0        Lineal Regression  0.169686     0.123118\n",
       "1  Random Forest Regressor  0.180608     0.126273\n",
       "2  Decision Tree Tegressor  0.178557     0.112851"
      ]
     },
     "execution_count": 82,
     "metadata": {},
     "output_type": "execute_result"
    }
   ],
   "source": [
    "# Resultados \n",
    "resultados_tablas = pd.DataFrame({\n",
    "    \"Modelo\": [\"Lineal Regression\", \"Random Forest Regressor\", \"Decision Tree Tegressor\"],\n",
    "    \"MAPE\": [score_lr.mean(), score_rfr.mean(), score_dtr.mean()],\n",
    "    \"sMAPE final\": [smape_final(target_test, prediction_lr), smape_final(target_test, prediction_rfr), smape_final(target_test, prediction_dtr)]\n",
    "})\n",
    "\n",
    "resultados_tablas"
   ]
  },
  {
   "cell_type": "markdown",
   "id": "d69d6bab",
   "metadata": {},
   "source": [
    "### Probamos el modelo con Test"
   ]
  },
  {
   "cell_type": "code",
   "execution_count": 87,
   "id": "ec4750aa",
   "metadata": {},
   "outputs": [
    {
     "data": {
      "text/plain": [
       "{'max_depth': 4, 'min_samples_split': 2}"
      ]
     },
     "execution_count": 87,
     "metadata": {},
     "output_type": "execute_result"
    }
   ],
   "source": [
    "best_params"
   ]
  },
  {
   "cell_type": "code",
   "execution_count": 93,
   "id": "4a73bf41",
   "metadata": {
    "scrolled": true
   },
   "outputs": [
    {
     "name": "stdout",
     "output_type": "stream",
     "text": [
      "sMAPE final: 0.1283219429137027\n"
     ]
    }
   ],
   "source": [
    "#Decision Tree Regressor \n",
    "model_final = DecisionTreeRegressor(random_state=12345, max_depth=4, min_samples_split=2)\n",
    "model_final.fit(features_train, target_train)\n",
    "prediction= model_final.predict(features_test)\n",
    "\n",
    "print(\"sMAPE final:\", smape_final(target_test, prediction))"
   ]
  },
  {
   "cell_type": "markdown",
   "id": "adbbb92b",
   "metadata": {},
   "source": [
    "Con el modelo final, podemos ver que hay un error del 12.8% en las predicciones"
   ]
  }
 ],
 "metadata": {
  "kernelspec": {
   "display_name": "Python 3",
   "language": "python",
   "name": "python3"
  },
  "language_info": {
   "codemirror_mode": {
    "name": "ipython",
    "version": 3
   },
   "file_extension": ".py",
   "mimetype": "text/x-python",
   "name": "python",
   "nbconvert_exporter": "python",
   "pygments_lexer": "ipython3",
   "version": "3.9.12"
  },
  "toc": {
   "base_numbering": 1,
   "nav_menu": {},
   "number_sections": true,
   "sideBar": true,
   "skip_h1_title": true,
   "title_cell": "Table of Contents",
   "title_sidebar": "Contents",
   "toc_cell": true,
   "toc_position": {
    "height": "calc(100% - 180px)",
    "left": "10px",
    "top": "150px",
    "width": "165px"
   },
   "toc_section_display": true,
   "toc_window_display": false
  },
  "varInspector": {
   "cols": {
    "lenName": 16,
    "lenType": 16,
    "lenVar": 40
   },
   "kernels_config": {
    "python": {
     "delete_cmd_postfix": "",
     "delete_cmd_prefix": "del ",
     "library": "var_list.py",
     "varRefreshCmd": "print(var_dic_list())"
    },
    "r": {
     "delete_cmd_postfix": ") ",
     "delete_cmd_prefix": "rm(",
     "library": "var_list.r",
     "varRefreshCmd": "cat(var_dic_list()) "
    }
   },
   "types_to_exclude": [
    "module",
    "function",
    "builtin_function_or_method",
    "instance",
    "_Feature"
   ],
   "window_display": false
  }
 },
 "nbformat": 4,
 "nbformat_minor": 5
}
